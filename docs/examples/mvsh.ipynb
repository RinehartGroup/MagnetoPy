{
 "cells": [
  {
   "cell_type": "markdown",
   "metadata": {},
   "source": [
    "# The `MvsH` Experiment Class\n",
    "\n",
    "The [`MvsH`](../../api/mvsh#magnetopy.experiments.mvsh.MvsH) class contains the data of a single magnetization vs. field (i.e., a hysteresis) experiment, along with a number of methods used for processing and working with the data."
   ]
  },
  {
   "cell_type": "code",
   "execution_count": 1,
   "metadata": {},
   "outputs": [],
   "source": [
    "from pathlib import Path\n",
    "\n",
    "import matplotlib.pyplot as plt\n",
    "\n",
    "import magnetopy as mp\n",
    "\n",
    "DATA_PATH = Path(\"../../tests/data\")"
   ]
  },
  {
   "cell_type": "markdown",
   "metadata": {},
   "source": [
    "## Creating an `MvsH` Object From Files\n",
    "\n",
    "### Files with a Single Experiment\n",
    "\n",
    "For files containing a single M vs. H experiment (i.e., data collected at a single temperature), the `MvsH` object can be created by simply passing the file path to the constructor:"
   ]
  },
  {
   "cell_type": "code",
   "execution_count": 2,
   "metadata": {},
   "outputs": [
    {
     "data": {
      "text/plain": [
       "MvsH at 293.0 K"
      ]
     },
     "execution_count": 2,
     "metadata": {},
     "output_type": "execute_result"
    }
   ],
   "source": [
    "mvsh4 = mp.MvsH(DATA_PATH / \"mvsh4.dat\")\n",
    "mvsh4"
   ]
  },
  {
   "cell_type": "markdown",
   "metadata": {},
   "source": [
    "The `as_dict()` method returns a dictionary of information about the experiment and any processing that has been performed on it. Note that these are all attributes of the `MvsH` object, and can be accessed directly as well."
   ]
  },
  {
   "cell_type": "code",
   "execution_count": 3,
   "metadata": {},
   "outputs": [
    {
     "data": {
      "text/plain": [
       "{'origin_file': 'mvsh4.dat',\n",
       " 'temperature': 293.0,\n",
       " 'field_range': (-70000.375, 70000.3359375),\n",
       " 'field_correction_file': '',\n",
       " 'scaling': []}"
      ]
     },
     "execution_count": 3,
     "metadata": {},
     "output_type": "execute_result"
    }
   ],
   "source": [
    "mvsh4.as_dict()"
   ]
  },
  {
   "cell_type": "markdown",
   "metadata": {},
   "source": [
    "And the data is stored in the `data` attribute. The columns of this `DataFrame` are created directly from the data file which, in this case, is a .dat file from a Quantum Design MPMS3. There are two additional columns at the end, `\"uncorrected_moment\"` and `\"uncorrected_moment_err\"`. The .dat file contains the magnetization data in one of two columns, depending on whether the measurements were done in DC or VSM mode. The `MvsH` class automatically determines which column contains the data, and stores it in the `\"uncorrected_moment\"` and `\"uncorrected_moment_err\"` columns, which are used for subsequent processing."
   ]
  },
  {
   "cell_type": "code",
   "execution_count": 4,
   "metadata": {},
   "outputs": [
    {
     "data": {
      "text/html": [
       "<div>\n",
       "<style scoped>\n",
       "    .dataframe tbody tr th:only-of-type {\n",
       "        vertical-align: middle;\n",
       "    }\n",
       "\n",
       "    .dataframe tbody tr th {\n",
       "        vertical-align: top;\n",
       "    }\n",
       "\n",
       "    .dataframe thead th {\n",
       "        text-align: right;\n",
       "    }\n",
       "</style>\n",
       "<table border=\"1\" class=\"dataframe\">\n",
       "  <thead>\n",
       "    <tr style=\"text-align: right;\">\n",
       "      <th></th>\n",
       "      <th>Comment</th>\n",
       "      <th>Time Stamp (sec)</th>\n",
       "      <th>Temperature (K)</th>\n",
       "      <th>Magnetic Field (Oe)</th>\n",
       "      <th>Moment (emu)</th>\n",
       "      <th>M. Std. Err. (emu)</th>\n",
       "      <th>Transport Action</th>\n",
       "      <th>Averaging Time (sec)</th>\n",
       "      <th>Frequency (Hz)</th>\n",
       "      <th>Peak Amplitude (mm)</th>\n",
       "      <th>...</th>\n",
       "      <th>Map 09</th>\n",
       "      <th>Map 10</th>\n",
       "      <th>Map 11</th>\n",
       "      <th>Map 12</th>\n",
       "      <th>Map 13</th>\n",
       "      <th>Map 14</th>\n",
       "      <th>Map 15</th>\n",
       "      <th>Map 16</th>\n",
       "      <th>uncorrected_moment</th>\n",
       "      <th>uncorrected_moment_err</th>\n",
       "    </tr>\n",
       "  </thead>\n",
       "  <tbody>\n",
       "    <tr>\n",
       "      <th>0</th>\n",
       "      <td>NaN</td>\n",
       "      <td>3.860780e+09</td>\n",
       "      <td>293.223587</td>\n",
       "      <td>-70000.000000</td>\n",
       "      <td>NaN</td>\n",
       "      <td>NaN</td>\n",
       "      <td>6.0</td>\n",
       "      <td>NaN</td>\n",
       "      <td>NaN</td>\n",
       "      <td>NaN</td>\n",
       "      <td>...</td>\n",
       "      <td>NaN</td>\n",
       "      <td>NaN</td>\n",
       "      <td>NaN</td>\n",
       "      <td>NaN</td>\n",
       "      <td>NaN</td>\n",
       "      <td>NaN</td>\n",
       "      <td>NaN</td>\n",
       "      <td>NaN</td>\n",
       "      <td>-0.004099</td>\n",
       "      <td>0.000208</td>\n",
       "    </tr>\n",
       "    <tr>\n",
       "      <th>1</th>\n",
       "      <td>NaN</td>\n",
       "      <td>3.860780e+09</td>\n",
       "      <td>293.209259</td>\n",
       "      <td>-65000.421875</td>\n",
       "      <td>NaN</td>\n",
       "      <td>NaN</td>\n",
       "      <td>6.0</td>\n",
       "      <td>NaN</td>\n",
       "      <td>NaN</td>\n",
       "      <td>NaN</td>\n",
       "      <td>...</td>\n",
       "      <td>NaN</td>\n",
       "      <td>NaN</td>\n",
       "      <td>NaN</td>\n",
       "      <td>NaN</td>\n",
       "      <td>NaN</td>\n",
       "      <td>NaN</td>\n",
       "      <td>NaN</td>\n",
       "      <td>NaN</td>\n",
       "      <td>-0.004110</td>\n",
       "      <td>0.000209</td>\n",
       "    </tr>\n",
       "    <tr>\n",
       "      <th>2</th>\n",
       "      <td>NaN</td>\n",
       "      <td>3.860780e+09</td>\n",
       "      <td>293.174545</td>\n",
       "      <td>-60000.355469</td>\n",
       "      <td>NaN</td>\n",
       "      <td>NaN</td>\n",
       "      <td>6.0</td>\n",
       "      <td>NaN</td>\n",
       "      <td>NaN</td>\n",
       "      <td>NaN</td>\n",
       "      <td>...</td>\n",
       "      <td>NaN</td>\n",
       "      <td>NaN</td>\n",
       "      <td>NaN</td>\n",
       "      <td>NaN</td>\n",
       "      <td>NaN</td>\n",
       "      <td>NaN</td>\n",
       "      <td>NaN</td>\n",
       "      <td>NaN</td>\n",
       "      <td>-0.004117</td>\n",
       "      <td>0.000208</td>\n",
       "    </tr>\n",
       "    <tr>\n",
       "      <th>3</th>\n",
       "      <td>NaN</td>\n",
       "      <td>3.860780e+09</td>\n",
       "      <td>293.203033</td>\n",
       "      <td>-55000.378906</td>\n",
       "      <td>NaN</td>\n",
       "      <td>NaN</td>\n",
       "      <td>6.0</td>\n",
       "      <td>NaN</td>\n",
       "      <td>NaN</td>\n",
       "      <td>NaN</td>\n",
       "      <td>...</td>\n",
       "      <td>NaN</td>\n",
       "      <td>NaN</td>\n",
       "      <td>NaN</td>\n",
       "      <td>NaN</td>\n",
       "      <td>NaN</td>\n",
       "      <td>NaN</td>\n",
       "      <td>NaN</td>\n",
       "      <td>NaN</td>\n",
       "      <td>-0.004117</td>\n",
       "      <td>0.000208</td>\n",
       "    </tr>\n",
       "    <tr>\n",
       "      <th>4</th>\n",
       "      <td>NaN</td>\n",
       "      <td>3.860780e+09</td>\n",
       "      <td>293.191849</td>\n",
       "      <td>-50000.183594</td>\n",
       "      <td>NaN</td>\n",
       "      <td>NaN</td>\n",
       "      <td>6.0</td>\n",
       "      <td>NaN</td>\n",
       "      <td>NaN</td>\n",
       "      <td>NaN</td>\n",
       "      <td>...</td>\n",
       "      <td>NaN</td>\n",
       "      <td>NaN</td>\n",
       "      <td>NaN</td>\n",
       "      <td>NaN</td>\n",
       "      <td>NaN</td>\n",
       "      <td>NaN</td>\n",
       "      <td>NaN</td>\n",
       "      <td>NaN</td>\n",
       "      <td>-0.004120</td>\n",
       "      <td>0.000208</td>\n",
       "    </tr>\n",
       "  </tbody>\n",
       "</table>\n",
       "<p>5 rows × 91 columns</p>\n",
       "</div>"
      ],
      "text/plain": [
       "  Comment  Time Stamp (sec)  Temperature (K)  Magnetic Field (Oe)  \\\n",
       "0     NaN      3.860780e+09       293.223587        -70000.000000   \n",
       "1     NaN      3.860780e+09       293.209259        -65000.421875   \n",
       "2     NaN      3.860780e+09       293.174545        -60000.355469   \n",
       "3     NaN      3.860780e+09       293.203033        -55000.378906   \n",
       "4     NaN      3.860780e+09       293.191849        -50000.183594   \n",
       "\n",
       "   Moment (emu)  M. Std. Err. (emu)  Transport Action  Averaging Time (sec)  \\\n",
       "0           NaN                 NaN               6.0                   NaN   \n",
       "1           NaN                 NaN               6.0                   NaN   \n",
       "2           NaN                 NaN               6.0                   NaN   \n",
       "3           NaN                 NaN               6.0                   NaN   \n",
       "4           NaN                 NaN               6.0                   NaN   \n",
       "\n",
       "   Frequency (Hz)  Peak Amplitude (mm)  ...  Map 09  Map 10  Map 11  Map 12  \\\n",
       "0             NaN                  NaN  ...     NaN     NaN     NaN     NaN   \n",
       "1             NaN                  NaN  ...     NaN     NaN     NaN     NaN   \n",
       "2             NaN                  NaN  ...     NaN     NaN     NaN     NaN   \n",
       "3             NaN                  NaN  ...     NaN     NaN     NaN     NaN   \n",
       "4             NaN                  NaN  ...     NaN     NaN     NaN     NaN   \n",
       "\n",
       "   Map 13  Map 14  Map 15  Map 16  uncorrected_moment  uncorrected_moment_err  \n",
       "0     NaN     NaN     NaN     NaN           -0.004099                0.000208  \n",
       "1     NaN     NaN     NaN     NaN           -0.004110                0.000209  \n",
       "2     NaN     NaN     NaN     NaN           -0.004117                0.000208  \n",
       "3     NaN     NaN     NaN     NaN           -0.004117                0.000208  \n",
       "4     NaN     NaN     NaN     NaN           -0.004120                0.000208  \n",
       "\n",
       "[5 rows x 91 columns]"
      ]
     },
     "execution_count": 4,
     "metadata": {},
     "output_type": "execute_result"
    }
   ],
   "source": [
    "mvsh4.data.head()"
   ]
  },
  {
   "cell_type": "markdown",
   "metadata": {},
   "source": [
    "### Files with Multiple Experiments\n",
    "\n",
    "Trying to create an `MvsH` object from a file containing multiple experiments will result in a `TemperatureDetectionError`:"
   ]
  },
  {
   "cell_type": "code",
   "execution_count": 5,
   "metadata": {},
   "outputs": [
    {
     "name": "stdout",
     "output_type": "stream",
     "text": [
      "Auto-parsing of MvsH objects from DatFile objects requires that there be only one temperature in the data. Found 7 temperatures.\n"
     ]
    }
   ],
   "source": [
    "try:\n",
    "    mvsh1 = mp.MvsH(DATA_PATH / \"mvsh1.dat\")\n",
    "except mp.experiments.mvsh.TemperatureDetectionError as e:\n",
    "    print(e)"
   ]
  },
  {
   "cell_type": "markdown",
   "metadata": {},
   "source": [
    "In this case we'll need to pass the temperature of our desired experiment to the constructor:"
   ]
  },
  {
   "cell_type": "code",
   "execution_count": 6,
   "metadata": {},
   "outputs": [
    {
     "data": {
      "text/plain": [
       "{'origin_file': 'mvsh1.dat',\n",
       " 'temperature': 2,\n",
       " 'field_range': (-70000.35156, 70000.375),\n",
       " 'field_correction_file': '',\n",
       " 'scaling': []}"
      ]
     },
     "execution_count": 6,
     "metadata": {},
     "output_type": "execute_result"
    }
   ],
   "source": [
    "mvsh1_2k = mp.MvsH(DATA_PATH / \"mvsh1.dat\", temperature=2)\n",
    "mvsh1_2k.as_dict()"
   ]
  },
  {
   "cell_type": "markdown",
   "metadata": {},
   "source": [
    "## Creating Multiple `MvsH` Objects From a Single File\n",
    "\n",
    "In cases where a single file contains multiple experiments, we can create a list of `MvsH` objects by passing the file path to the `MvsH.get_all_in_file()` method:"
   ]
  },
  {
   "cell_type": "code",
   "execution_count": 7,
   "metadata": {},
   "outputs": [
    {
     "name": "stdout",
     "output_type": "stream",
     "text": [
      "MvsH at 2 K\n",
      "MvsH at 4 K\n",
      "MvsH at 6 K\n",
      "MvsH at 8 K\n",
      "MvsH at 10 K\n",
      "MvsH at 12 K\n",
      "MvsH at 300 K\n"
     ]
    }
   ],
   "source": [
    "mvsh1 = mp.MvsH.get_all_in_file(DATA_PATH / \"mvsh1.dat\")\n",
    "for mvsh in mvsh1:\n",
    "    print(mvsh)"
   ]
  },
  {
   "cell_type": "markdown",
   "metadata": {},
   "source": [
    "This also works for files containing a single experiment, you'll just get a list with a single `MvsH` object in it."
   ]
  },
  {
   "cell_type": "code",
   "execution_count": 8,
   "metadata": {},
   "outputs": [
    {
     "name": "stdout",
     "output_type": "stream",
     "text": [
      "MvsH at 293.0 K\n"
     ]
    }
   ],
   "source": [
    "mvsh4_list = mp.MvsH.get_all_in_file(DATA_PATH / \"mvsh4.dat\")\n",
    "for mvsh in mvsh4_list:\n",
    "    print(mvsh)"
   ]
  },
  {
   "cell_type": "markdown",
   "metadata": {},
   "source": [
    "## Simplified Data and Segments"
   ]
  },
  {
   "cell_type": "markdown",
   "metadata": {},
   "source": [
    "Whatever we're doing with this data, there are a lot more columns than we'll likely need. The `simplified_data()` method returns a `DataFrame` with only the relevant columns for an `MvsH` experiment:"
   ]
  },
  {
   "cell_type": "code",
   "execution_count": 9,
   "metadata": {},
   "outputs": [
    {
     "data": {
      "text/html": [
       "<div>\n",
       "<style scoped>\n",
       "    .dataframe tbody tr th:only-of-type {\n",
       "        vertical-align: middle;\n",
       "    }\n",
       "\n",
       "    .dataframe tbody tr th {\n",
       "        vertical-align: top;\n",
       "    }\n",
       "\n",
       "    .dataframe thead th {\n",
       "        text-align: right;\n",
       "    }\n",
       "</style>\n",
       "<table border=\"1\" class=\"dataframe\">\n",
       "  <thead>\n",
       "    <tr style=\"text-align: right;\">\n",
       "      <th></th>\n",
       "      <th>time</th>\n",
       "      <th>temperature</th>\n",
       "      <th>field</th>\n",
       "      <th>moment</th>\n",
       "      <th>moment_err</th>\n",
       "      <th>chi</th>\n",
       "      <th>chi_err</th>\n",
       "      <th>chi_t</th>\n",
       "      <th>chi_t_err</th>\n",
       "    </tr>\n",
       "  </thead>\n",
       "  <tbody>\n",
       "    <tr>\n",
       "      <th>0</th>\n",
       "      <td>3.886899e+09</td>\n",
       "      <td>4.999953</td>\n",
       "      <td>0.085553</td>\n",
       "      <td>-0.000045</td>\n",
       "      <td>6.638709e-07</td>\n",
       "      <td>-5.310496e-04</td>\n",
       "      <td>7.759755e-06</td>\n",
       "      <td>-2.655223e-03</td>\n",
       "      <td>3.879841e-05</td>\n",
       "    </tr>\n",
       "    <tr>\n",
       "      <th>1</th>\n",
       "      <td>3.886899e+09</td>\n",
       "      <td>4.999861</td>\n",
       "      <td>0.109997</td>\n",
       "      <td>-0.000046</td>\n",
       "      <td>1.130964e-06</td>\n",
       "      <td>-4.146267e-04</td>\n",
       "      <td>1.028179e-05</td>\n",
       "      <td>-2.073076e-03</td>\n",
       "      <td>5.140751e-05</td>\n",
       "    </tr>\n",
       "    <tr>\n",
       "      <th>2</th>\n",
       "      <td>3.886899e+09</td>\n",
       "      <td>4.999944</td>\n",
       "      <td>108.469070</td>\n",
       "      <td>-0.000148</td>\n",
       "      <td>2.639004e-05</td>\n",
       "      <td>-1.364675e-06</td>\n",
       "      <td>2.432955e-07</td>\n",
       "      <td>-6.823298e-06</td>\n",
       "      <td>1.216464e-06</td>\n",
       "    </tr>\n",
       "    <tr>\n",
       "      <th>3</th>\n",
       "      <td>3.886899e+09</td>\n",
       "      <td>4.999876</td>\n",
       "      <td>204.471832</td>\n",
       "      <td>0.000009</td>\n",
       "      <td>9.156850e-06</td>\n",
       "      <td>4.402288e-08</td>\n",
       "      <td>4.478294e-08</td>\n",
       "      <td>2.201089e-07</td>\n",
       "      <td>2.239092e-07</td>\n",
       "    </tr>\n",
       "    <tr>\n",
       "      <th>4</th>\n",
       "      <td>3.886899e+09</td>\n",
       "      <td>4.999945</td>\n",
       "      <td>300.352386</td>\n",
       "      <td>0.000246</td>\n",
       "      <td>1.018018e-05</td>\n",
       "      <td>8.198379e-07</td>\n",
       "      <td>3.389411e-08</td>\n",
       "      <td>4.099144e-06</td>\n",
       "      <td>1.694687e-07</td>\n",
       "    </tr>\n",
       "  </tbody>\n",
       "</table>\n",
       "</div>"
      ],
      "text/plain": [
       "           time  temperature       field    moment    moment_err  \\\n",
       "0  3.886899e+09     4.999953    0.085553 -0.000045  6.638709e-07   \n",
       "1  3.886899e+09     4.999861    0.109997 -0.000046  1.130964e-06   \n",
       "2  3.886899e+09     4.999944  108.469070 -0.000148  2.639004e-05   \n",
       "3  3.886899e+09     4.999876  204.471832  0.000009  9.156850e-06   \n",
       "4  3.886899e+09     4.999945  300.352386  0.000246  1.018018e-05   \n",
       "\n",
       "            chi       chi_err         chi_t     chi_t_err  \n",
       "0 -5.310496e-04  7.759755e-06 -2.655223e-03  3.879841e-05  \n",
       "1 -4.146267e-04  1.028179e-05 -2.073076e-03  5.140751e-05  \n",
       "2 -1.364675e-06  2.432955e-07 -6.823298e-06  1.216464e-06  \n",
       "3  4.402288e-08  4.478294e-08  2.201089e-07  2.239092e-07  \n",
       "4  8.198379e-07  3.389411e-08  4.099144e-06  1.694687e-07  "
      ]
     },
     "execution_count": 9,
     "metadata": {},
     "output_type": "execute_result"
    }
   ],
   "source": [
    "mvsh11 = mp.MvsH(DATA_PATH / \"mvsh11.dat\")\n",
    "mvsh11.simplified_data().head()"
   ]
  },
  {
   "cell_type": "markdown",
   "metadata": {},
   "source": [
    "In this case we haven't done any scaling or processing, so the `\"moment\"` and `\"moment_err\"` columns are the same as the `\"uncorrected_moment\"` and `\"uncorrected_moment_err\"` columns. We'll see how to scale the data in the next section.\n",
    "\n",
    "Looking at the values of magnetic fields in the data, we can see that this experiment consists of a virgin, forward, and reverse scans:"
   ]
  },
  {
   "cell_type": "code",
   "execution_count": 10,
   "metadata": {},
   "outputs": [
    {
     "data": {
      "image/png": "[encoded data removed]",
      "text/plain": [
       "<Figure size 640x480 with 1 Axes>"
      ]
     },
     "metadata": {},
     "output_type": "display_data"
    }
   ],
   "source": [
    "fig, ax = plt.subplots()\n",
    "x = mvsh11.simplified_data()[\"field\"] / 10000\n",
    "y = mvsh11.simplified_data()[\"moment\"]\n",
    "ax.plot(x, y)\n",
    "ax.set_xlabel(\"Field (T)\")\n",
    "ax.set_ylabel(\"Moment (emu)\")\n",
    "mp.force_aspect(ax) # a plot utility function in Magnetopy\n",
    "plt.show()"
   ]
  },
  {
   "cell_type": "markdown",
   "metadata": {},
   "source": [
    "For some analyses and/or visualizations, we may only want to work with a single segment of the data. `simplified_data()` has an optional `segment` argument that can be used to return only a single segment of the data:"
   ]
  },
  {
   "cell_type": "code",
   "execution_count": 11,
   "metadata": {},
   "outputs": [
    {
     "data": {
      "text/html": [
       "<div>\n",
       "<style scoped>\n",
       "    .dataframe tbody tr th:only-of-type {\n",
       "        vertical-align: middle;\n",
       "    }\n",
       "\n",
       "    .dataframe tbody tr th {\n",
       "        vertical-align: top;\n",
       "    }\n",
       "\n",
       "    .dataframe thead th {\n",
       "        text-align: right;\n",
       "    }\n",
       "</style>\n",
       "<table border=\"1\" class=\"dataframe\">\n",
       "  <thead>\n",
       "    <tr style=\"text-align: right;\">\n",
       "      <th></th>\n",
       "      <th>time</th>\n",
       "      <th>temperature</th>\n",
       "      <th>field</th>\n",
       "      <th>moment</th>\n",
       "      <th>moment_err</th>\n",
       "      <th>chi</th>\n",
       "      <th>chi_err</th>\n",
       "      <th>chi_t</th>\n",
       "      <th>chi_t_err</th>\n",
       "    </tr>\n",
       "  </thead>\n",
       "  <tbody>\n",
       "    <tr>\n",
       "      <th>0</th>\n",
       "      <td>3.886900e+09</td>\n",
       "      <td>4.999997</td>\n",
       "      <td>70000.460938</td>\n",
       "      <td>0.408538</td>\n",
       "      <td>0.000393</td>\n",
       "      <td>0.000006</td>\n",
       "      <td>5.613738e-09</td>\n",
       "      <td>0.000029</td>\n",
       "      <td>2.806867e-08</td>\n",
       "    </tr>\n",
       "    <tr>\n",
       "      <th>1</th>\n",
       "      <td>3.886900e+09</td>\n",
       "      <td>5.000016</td>\n",
       "      <td>69999.851562</td>\n",
       "      <td>0.408824</td>\n",
       "      <td>0.000408</td>\n",
       "      <td>0.000006</td>\n",
       "      <td>5.821657e-09</td>\n",
       "      <td>0.000029</td>\n",
       "      <td>2.910838e-08</td>\n",
       "    </tr>\n",
       "    <tr>\n",
       "      <th>2</th>\n",
       "      <td>3.886900e+09</td>\n",
       "      <td>4.999962</td>\n",
       "      <td>69890.496094</td>\n",
       "      <td>0.408390</td>\n",
       "      <td>0.000389</td>\n",
       "      <td>0.000006</td>\n",
       "      <td>5.566526e-09</td>\n",
       "      <td>0.000029</td>\n",
       "      <td>2.783242e-08</td>\n",
       "    </tr>\n",
       "    <tr>\n",
       "      <th>3</th>\n",
       "      <td>3.886900e+09</td>\n",
       "      <td>5.000044</td>\n",
       "      <td>69798.500000</td>\n",
       "      <td>0.408776</td>\n",
       "      <td>0.000429</td>\n",
       "      <td>0.000006</td>\n",
       "      <td>6.151053e-09</td>\n",
       "      <td>0.000029</td>\n",
       "      <td>3.075553e-08</td>\n",
       "    </tr>\n",
       "    <tr>\n",
       "      <th>4</th>\n",
       "      <td>3.886900e+09</td>\n",
       "      <td>4.999870</td>\n",
       "      <td>69694.355469</td>\n",
       "      <td>0.408636</td>\n",
       "      <td>0.000383</td>\n",
       "      <td>0.000006</td>\n",
       "      <td>5.491631e-09</td>\n",
       "      <td>0.000029</td>\n",
       "      <td>2.745745e-08</td>\n",
       "    </tr>\n",
       "  </tbody>\n",
       "</table>\n",
       "</div>"
      ],
      "text/plain": [
       "           time  temperature         field    moment  moment_err       chi  \\\n",
       "0  3.886900e+09     4.999997  70000.460938  0.408538    0.000393  0.000006   \n",
       "1  3.886900e+09     5.000016  69999.851562  0.408824    0.000408  0.000006   \n",
       "2  3.886900e+09     4.999962  69890.496094  0.408390    0.000389  0.000006   \n",
       "3  3.886900e+09     5.000044  69798.500000  0.408776    0.000429  0.000006   \n",
       "4  3.886900e+09     4.999870  69694.355469  0.408636    0.000383  0.000006   \n",
       "\n",
       "        chi_err     chi_t     chi_t_err  \n",
       "0  5.613738e-09  0.000029  2.806867e-08  \n",
       "1  5.821657e-09  0.000029  2.910838e-08  \n",
       "2  5.566526e-09  0.000029  2.783242e-08  \n",
       "3  6.151053e-09  0.000029  3.075553e-08  \n",
       "4  5.491631e-09  0.000029  2.745745e-08  "
      ]
     },
     "execution_count": 11,
     "metadata": {},
     "output_type": "execute_result"
    }
   ],
   "source": [
    "mvsh11.simplified_data(segment=\"reverse\").head()"
   ]
  },
  {
   "cell_type": "code",
   "execution_count": 12,
   "metadata": {},
   "outputs": [
    {
     "data": {
      "image/png": "[encoded data removed]",
      "text/plain": [
       "<Figure size 640x480 with 1 Axes>"
      ]
     },
     "metadata": {},
     "output_type": "display_data"
    }
   ],
   "source": [
    "fig, ax = plt.subplots()\n",
    "x1 = mvsh11.simplified_data(segment=\"virgin\")[\"field\"] / 10000\n",
    "y1 = mvsh11.simplified_data(segment=\"virgin\")[\"moment\"]\n",
    "x2 = mvsh11.simplified_data(segment=\"reverse\")[\"field\"] / 10000\n",
    "y2 = mvsh11.simplified_data(segment=\"reverse\")[\"moment\"]\n",
    "x3 = mvsh11.simplified_data(segment=\"forward\")[\"field\"] / 10000\n",
    "y3 = mvsh11.simplified_data(segment=\"forward\")[\"moment\"]\n",
    "ax.plot(x1, y1, label=\"virgin\")\n",
    "ax.plot(x2, y2, label=\"reverse\")\n",
    "ax.plot(x3, y3, label=\"forward\")\n",
    "ax.set_xlabel(\"Field (T)\")\n",
    "ax.set_ylabel(\"Moment (emu)\")\n",
    "ax.legend()\n",
    "mp.force_aspect(ax)\n",
    "plt.show()"
   ]
  },
  {
   "cell_type": "markdown",
   "metadata": {},
   "source": [
    "## Scaling the Moment\n",
    "\n",
    "Scaling is something you'll likely do through the [`Magnetometry`](../../api/magnetometry#magnetopy.magnetometry.Magnetometry) class, discussed in a later example notebook. However, the `Magnetometry` class uses methods within the `MvsH` class, and these methods can be used directly as well.\n",
    "\n",
    "Scaling can be done using the `scale_moment()` method. As is described in the [underlying utility function](../../api/experiments_utils/#magnetopy.experiments.utils.scale_dc_data), this method adds columns to the `data` attribute of the `MvsH` object that contain the magnetic moment, magnetic susceptibility, and magnetic susceptibility times temperature (and their errors). The columns added are `\"moment\"`, `\"moment_err\"`, `\"chi\"`, `\"chi_err\"`, `\"chi_t\"`, and `\"chi_t_err\"`. The units of these values depend on the values of the `mass`, `eicosane_mass`, `molecular_weight`, and `diamagnetic_correction` which are passed as arguments. A record of what scaling was applied is added to the `scaling` attribute of the `MvsH` object.\n",
    "\n",
    "Here are the currently supported scaling options:\n",
    "- If `mass` is given but not `molecular_weight`, the only available scaling is a mass correction.\n",
    "- If `mass` and `molecular` weight are given, a molar correction is applied. The molar correction can be further modified by giving `eicosane_mass` and/or `diamagnetic_correction`.\n",
    "\n",
    "We'll use the [`SampleInfo`](../../api/magnetometry/#magnetopy.magnetometry.SampleInfo) class to read the sample information from the header of the .dat file:"
   ]
  },
  {
   "cell_type": "code",
   "execution_count": 13,
   "metadata": {},
   "outputs": [
    {
     "name": "stdout",
     "output_type": "stream",
     "text": [
      "sample_info.mass = 10.1\n",
      "sample_info.eicosane_mass = 17.3\n",
      "sample_info.molecular_weight = 704.95\n",
      "sample_info.diamagnetic_correction = 0.0\n"
     ]
    }
   ],
   "source": [
    "sample_info = mp.SampleInfo.from_dat_file(DATA_PATH / \"mvsh11.dat\")\n",
    "print(\n",
    "    f\"\"\"{sample_info.mass = }\n",
    "{sample_info.eicosane_mass = }\n",
    "{sample_info.molecular_weight = }\n",
    "{sample_info.diamagnetic_correction = }\"\"\"\n",
    ")"
   ]
  },
  {
   "cell_type": "markdown",
   "metadata": {},
   "source": [
    "We'll pass all of these to the `scale_moment()` method, even though the `diamagnetic_correction` is 0."
   ]
  },
  {
   "cell_type": "code",
   "execution_count": 14,
   "metadata": {},
   "outputs": [],
   "source": [
    "mvsh11.scale_moment(\n",
    "    sample_info.mass,\n",
    "    sample_info.eicosane_mass,\n",
    "    sample_info.molecular_weight,\n",
    "    sample_info.diamagnetic_correction\n",
    ")"
   ]
  },
  {
   "cell_type": "markdown",
   "metadata": {},
   "source": [
    "The `scaling` attribute records the scaling that was applied as a list of manipulations. In this case, with a mass, molecular weight, and eicosane mass, the scaling is recorded as a `\"molar\"` scaling with an `\"eicosane\"` correction:"
   ]
  },
  {
   "cell_type": "code",
   "execution_count": 15,
   "metadata": {},
   "outputs": [
    {
     "data": {
      "text/plain": [
       "['molar', 'eicosane']"
      ]
     },
     "execution_count": 15,
     "metadata": {},
     "output_type": "execute_result"
    }
   ],
   "source": [
    "mvsh11.scaling"
   ]
  },
  {
   "cell_type": "markdown",
   "metadata": {},
   "source": [
    "The `mvsh.plot()` method will be discussed later, but for now notice that the default behavior, given molar scaling, is to plot the magnetization data in units of $N_A \\mu_B$:"
   ]
  },
  {
   "cell_type": "code",
   "execution_count": 16,
   "metadata": {},
   "outputs": [
    {
     "data": {
      "image/png": "[encoded data removed]",
      "text/plain": [
       "<Figure size 640x480 with 1 Axes>"
      ]
     },
     "metadata": {},
     "output_type": "display_data"
    }
   ],
   "source": [
    "fig, ax = mvsh11.plot()"
   ]
  },
  {
   "cell_type": "markdown",
   "metadata": {},
   "source": [
    "The plotting behavior works because the underlying `plot_mvsh()` function accesses the `simplified_data()` method. **`simplified_data()` always returns a `DataFrame` with the same columns, but the values and units of those columns are dependent on the scaling that has been applied.** Compare the current `simplified_data()` to the one we saw earlier:"
   ]
  },
  {
   "cell_type": "code",
   "execution_count": 17,
   "metadata": {},
   "outputs": [
    {
     "data": {
      "text/html": [
       "<div>\n",
       "<style scoped>\n",
       "    .dataframe tbody tr th:only-of-type {\n",
       "        vertical-align: middle;\n",
       "    }\n",
       "\n",
       "    .dataframe tbody tr th {\n",
       "        vertical-align: top;\n",
       "    }\n",
       "\n",
       "    .dataframe thead th {\n",
       "        text-align: right;\n",
       "    }\n",
       "</style>\n",
       "<table border=\"1\" class=\"dataframe\">\n",
       "  <thead>\n",
       "    <tr style=\"text-align: right;\">\n",
       "      <th></th>\n",
       "      <th>time</th>\n",
       "      <th>temperature</th>\n",
       "      <th>field</th>\n",
       "      <th>moment</th>\n",
       "      <th>moment_err</th>\n",
       "      <th>chi</th>\n",
       "      <th>chi_err</th>\n",
       "      <th>chi_t</th>\n",
       "      <th>chi_t_err</th>\n",
       "    </tr>\n",
       "  </thead>\n",
       "  <tbody>\n",
       "    <tr>\n",
       "      <th>0</th>\n",
       "      <td>3.886900e+09</td>\n",
       "      <td>4.999997</td>\n",
       "      <td>70000.460938</td>\n",
       "      <td>5.118614</td>\n",
       "      <td>0.017930</td>\n",
       "      <td>0.408390</td>\n",
       "      <td>0.001431</td>\n",
       "      <td>2.041947</td>\n",
       "      <td>0.007153</td>\n",
       "    </tr>\n",
       "    <tr>\n",
       "      <th>1</th>\n",
       "      <td>3.886900e+09</td>\n",
       "      <td>5.000016</td>\n",
       "      <td>69999.851562</td>\n",
       "      <td>5.122193</td>\n",
       "      <td>0.018112</td>\n",
       "      <td>0.408679</td>\n",
       "      <td>0.001445</td>\n",
       "      <td>2.043400</td>\n",
       "      <td>0.007225</td>\n",
       "    </tr>\n",
       "    <tr>\n",
       "      <th>2</th>\n",
       "      <td>3.886900e+09</td>\n",
       "      <td>4.999962</td>\n",
       "      <td>69890.496094</td>\n",
       "      <td>5.116739</td>\n",
       "      <td>0.017861</td>\n",
       "      <td>0.408882</td>\n",
       "      <td>0.001427</td>\n",
       "      <td>2.044396</td>\n",
       "      <td>0.007136</td>\n",
       "    </tr>\n",
       "    <tr>\n",
       "      <th>3</th>\n",
       "      <td>3.886900e+09</td>\n",
       "      <td>5.000044</td>\n",
       "      <td>69798.500000</td>\n",
       "      <td>5.121548</td>\n",
       "      <td>0.018347</td>\n",
       "      <td>0.409806</td>\n",
       "      <td>0.001468</td>\n",
       "      <td>2.049048</td>\n",
       "      <td>0.007340</td>\n",
       "    </tr>\n",
       "    <tr>\n",
       "      <th>4</th>\n",
       "      <td>3.886900e+09</td>\n",
       "      <td>4.999870</td>\n",
       "      <td>69694.355469</td>\n",
       "      <td>5.119781</td>\n",
       "      <td>0.017745</td>\n",
       "      <td>0.410277</td>\n",
       "      <td>0.001422</td>\n",
       "      <td>2.051331</td>\n",
       "      <td>0.007110</td>\n",
       "    </tr>\n",
       "  </tbody>\n",
       "</table>\n",
       "</div>"
      ],
      "text/plain": [
       "           time  temperature         field    moment  moment_err       chi  \\\n",
       "0  3.886900e+09     4.999997  70000.460938  5.118614    0.017930  0.408390   \n",
       "1  3.886900e+09     5.000016  69999.851562  5.122193    0.018112  0.408679   \n",
       "2  3.886900e+09     4.999962  69890.496094  5.116739    0.017861  0.408882   \n",
       "3  3.886900e+09     5.000044  69798.500000  5.121548    0.018347  0.409806   \n",
       "4  3.886900e+09     4.999870  69694.355469  5.119781    0.017745  0.410277   \n",
       "\n",
       "    chi_err     chi_t  chi_t_err  \n",
       "0  0.001431  2.041947   0.007153  \n",
       "1  0.001445  2.043400   0.007225  \n",
       "2  0.001427  2.044396   0.007136  \n",
       "3  0.001468  2.049048   0.007340  \n",
       "4  0.001422  2.051331   0.007110  "
      ]
     },
     "execution_count": 17,
     "metadata": {},
     "output_type": "execute_result"
    }
   ],
   "source": [
    "mvsh11.simplified_data(segment=\"reverse\").head()"
   ]
  },
  {
   "cell_type": "markdown",
   "metadata": {},
   "source": [
    "## Correcting the Field for Flux Trapping\n",
    "\n",
    "As described in [this Quantum Design application note](https://qdusa.com/siteDocs/appNotes/1500-021.pdf), the magnetic field reported by the magnetometer is determined by current from the magnet power supply and not by direct measurement. Flux trapping in the magnet can cause the reported field to be different from the actual field. While always present, it is most obvious in hysteresis curves of soft, non-hysteretic materials. In some cases the forward and reverse scans can have negative and postive coercivities, respectively, which is not physically possible.\n",
    "\n",
    "The true field correction remedies this by using a Pd standard to determine the actual field applied to the sample. Assuming the calibration and sample sequences are the same, it is assumed that the flux trapping is the same for both sequences, and the calculated field from the measurement on the Pd standard is applied to the sample data.\n",
    "\n",
    "Here's an M vs. H experiment that needs correction:"
   ]
  },
  {
   "cell_type": "code",
   "execution_count": 18,
   "metadata": {},
   "outputs": [],
   "source": [
    "mvsh6 = mp.MvsH(DATA_PATH / \"mvsh6.dat\")"
   ]
  },
  {
   "cell_type": "markdown",
   "metadata": {},
   "source": [
    "In the following plot, note that the forward segment has a negative coercivity and the reverse segment has a positive coercivity!"
   ]
  },
  {
   "cell_type": "code",
   "execution_count": 19,
   "metadata": {},
   "outputs": [
    {
     "data": {
      "image/png": "[encoded data removed]",
      "text/plain": [
       "<Figure size 640x480 with 1 Axes>"
      ]
     },
     "metadata": {},
     "output_type": "display_data"
    }
   ],
   "source": [
    "fig, ax = plt.subplots()\n",
    "max_moment = mvsh6.simplified_data()[\"moment\"].max()\n",
    "x1 = mvsh6.simplified_data(segment=\"forward\")[\"field\"]\n",
    "y1 = mvsh6.simplified_data(segment=\"forward\")[\"moment\"] / max_moment\n",
    "x2 = mvsh6.simplified_data(segment=\"reverse\")[\"field\"]\n",
    "y2 = mvsh6.simplified_data(segment=\"reverse\")[\"moment\"] / max_moment\n",
    "ax.plot(x1, y1, label=\"forward\")\n",
    "ax.plot(x2, y2, label=\"reverse\")\n",
    "ax.set_xlim(-1000, 1000)\n",
    "ax.set_ylim(-1, 1)\n",
    "ax.legend()\n",
    "mp.force_aspect(ax)\n",
    "plt.show()"
   ]
  },
  {
   "cell_type": "markdown",
   "metadata": {},
   "source": [
    "The field correction can be applied by passing the path to the .dat file containing the same experiment (i.e., same field sequence) collected on a Pd standard to the `correct_field()` method:"
   ]
  },
  {
   "cell_type": "code",
   "execution_count": 20,
   "metadata": {},
   "outputs": [],
   "source": [
    "mvsh6.correct_field(DATA_PATH / \"Pd_std1.dat\")"
   ]
  },
  {
   "cell_type": "markdown",
   "metadata": {},
   "source": [
    "The corrected data removes the false coercivities:"
   ]
  },
  {
   "cell_type": "code",
   "execution_count": 21,
   "metadata": {},
   "outputs": [
    {
     "data": {
      "image/png": "[encoded data removed]",
      "text/plain": [
       "<Figure size 640x480 with 1 Axes>"
      ]
     },
     "metadata": {},
     "output_type": "display_data"
    }
   ],
   "source": [
    "fig, ax = plt.subplots()\n",
    "max_moment = mvsh6.simplified_data()[\"moment\"].max()\n",
    "x1 = mvsh6.simplified_data(segment=\"forward\")[\"field\"]\n",
    "y1 = mvsh6.simplified_data(segment=\"forward\")[\"moment\"] / max_moment\n",
    "x2 = mvsh6.simplified_data(segment=\"reverse\")[\"field\"]\n",
    "y2 = mvsh6.simplified_data(segment=\"reverse\")[\"moment\"] / max_moment\n",
    "ax.plot(x1, y1, label=\"forward\")\n",
    "ax.plot(x2, y2, label=\"reverse\")\n",
    "ax.set_xlim(-1000, 1000)\n",
    "ax.set_ylim(-1, 1)\n",
    "ax.legend()\n",
    "mp.force_aspect(ax)\n",
    "plt.show()"
   ]
  },
  {
   "cell_type": "markdown",
   "metadata": {},
   "source": [
    "Zooming in further we can see that the forward and reverse segments are mostly coincident and never cross:"
   ]
  },
  {
   "cell_type": "code",
   "execution_count": 22,
   "metadata": {},
   "outputs": [
    {
     "data": {
      "image/png": "[encoded data removed]",
      "text/plain": [
       "<Figure size 640x480 with 1 Axes>"
      ]
     },
     "metadata": {},
     "output_type": "display_data"
    }
   ],
   "source": [
    "fig, ax = plt.subplots()\n",
    "max_moment = mvsh6.simplified_data()[\"moment\"].max()\n",
    "x1 = mvsh6.simplified_data(segment=\"forward\")[\"field\"]\n",
    "y1 = mvsh6.simplified_data(segment=\"forward\")[\"moment\"] / max_moment\n",
    "x2 = mvsh6.simplified_data(segment=\"reverse\")[\"field\"]\n",
    "y2 = mvsh6.simplified_data(segment=\"reverse\")[\"moment\"] / max_moment\n",
    "ax.plot(x1, y1, label=\"forward\")\n",
    "ax.plot(x2, y2, label=\"reverse\")\n",
    "ax.set_xlim(-100, 100)\n",
    "ax.set_ylim(-0.1, 0.1)\n",
    "ax.legend()\n",
    "mp.force_aspect(ax)\n",
    "plt.show()"
   ]
  },
  {
   "cell_type": "markdown",
   "metadata": {},
   "source": [
    "The name of the file used for the correction is stored in the `field_correction_file` attribute:"
   ]
  },
  {
   "cell_type": "code",
   "execution_count": 23,
   "metadata": {},
   "outputs": [
    {
     "data": {
      "text/plain": [
       "'Pd_std1.dat'"
      ]
     },
     "execution_count": 23,
     "metadata": {},
     "output_type": "execute_result"
    }
   ],
   "source": [
    "mvsh6.field_correction_file"
   ]
  },
  {
   "cell_type": "markdown",
   "metadata": {},
   "source": [
    "The field correction can also be run by passing the name of a sequence within your [standard calibration library](../../standard_calibration_library). In our case, that's installed using the Rinehart group's [MagnetoPyCalibration](https://github.com/RinehartGroup/MagnetoPyCalibration) repository, and the desired sequence in this case is named `\"sequence_1\"`."
   ]
  },
  {
   "cell_type": "code",
   "execution_count": 24,
   "metadata": {},
   "outputs": [
    {
     "data": {
      "image/png": "[encoded data removed]",
      "text/plain": [
       "<Figure size 640x480 with 1 Axes>"
      ]
     },
     "metadata": {},
     "output_type": "display_data"
    }
   ],
   "source": [
    "mvsh6 = mp.MvsH(DATA_PATH / \"mvsh6.dat\")\n",
    "mvsh6.correct_field(\"sequence_1\")\n",
    "\n",
    "fig, ax = plt.subplots()\n",
    "max_moment = mvsh6.simplified_data()[\"moment\"].max()\n",
    "x1 = mvsh6.simplified_data(segment=\"forward\")[\"field\"]\n",
    "y1 = mvsh6.simplified_data(segment=\"forward\")[\"moment\"] / max_moment\n",
    "x2 = mvsh6.simplified_data(segment=\"reverse\")[\"field\"]\n",
    "y2 = mvsh6.simplified_data(segment=\"reverse\")[\"moment\"] / max_moment\n",
    "ax.plot(x1, y1, label=\"forward\")\n",
    "ax.plot(x2, y2, label=\"reverse\")\n",
    "ax.set_xlim(-1000, 1000)\n",
    "ax.set_ylim(-1, 1)\n",
    "ax.legend()\n",
    "mp.force_aspect(ax)\n",
    "plt.show()"
   ]
  },
  {
   "cell_type": "markdown",
   "metadata": {},
   "source": [
    "The field correction file takes the name of the file in the standard calibration library:"
   ]
  },
  {
   "cell_type": "code",
   "execution_count": 25,
   "metadata": {},
   "outputs": [
    {
     "data": {
      "text/plain": [
       "'mvsh_seq1.dat'"
      ]
     },
     "execution_count": 25,
     "metadata": {},
     "output_type": "execute_result"
    }
   ],
   "source": [
    "mvsh6.field_correction_file"
   ]
  },
  {
   "cell_type": "markdown",
   "metadata": {},
   "source": [
    "## Plotting\n",
    "\n",
    "### Plot a Single `MvsH` Experiment\n",
    "\n",
    "### Plot Multiple `MvsH` Experiments\n",
    "\n",
    "### Plotting Raw Data"
   ]
  },
  {
   "cell_type": "markdown",
   "metadata": {},
   "source": []
  }
 ],
 "metadata": {
  "kernelspec": {
   "display_name": "magnetopy-3.10.12",
   "language": "python",
   "name": "python3"
  },
  "language_info": {
   "codemirror_mode": {
    "name": "ipython",
    "version": 3
   },
   "file_extension": ".py",
   "mimetype": "text/x-python",
   "name": "python",
   "nbconvert_exporter": "python",
   "pygments_lexer": "ipython3",
   "version": "3.10.12"
  },
  "orig_nbformat": 4
 },
 "nbformat": 4,
 "nbformat_minor": 2
}

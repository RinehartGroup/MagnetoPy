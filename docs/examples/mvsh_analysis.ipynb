{
 "cells": [
  {
   "cell_type": "markdown",
   "metadata": {},
   "source": [
    "# A Simple M vs. H Analysis\n",
    "\n",
    "Perhaps the most useful aspect of MagnetoPy is the ease of use when creating new analyses of magnetism data. One such analysis is included in the base MagnetoPy package and is handled by the [`SimpleMvsHAnalysis`](../../api/simple_mvsh_analysis/) class. This class determines basic information about a hysteresis loop, i.e., saturation magnetization, coercive field, and remnant magnetization. In this example we'll build this class from scratch to explain how to use MagnetoPy to create new analyses."
   ]
  },
  {
   "cell_type": "code",
   "execution_count": 1,
   "metadata": {},
   "outputs": [],
   "source": [
    "from pathlib import Path\n",
    "from dataclasses import dataclass, asdict\n",
    "from typing import Any, Literal\n",
    "\n",
    "import pandas as pd\n",
    "\n",
    "import magnetopy as mp\n",
    "\n",
    "DATA_PATH = Path(\"../../tests/data/\")"
   ]
  },
  {
   "cell_type": "markdown",
   "metadata": {},
   "source": [
    "## Exploratory Data Analysis\n",
    "\n",
    "MagnetoPy will likely be used in a notebook environment (like this example notebook) to develop analyses interactively. For example, let's consider a dataset containing several M vs. H experiments at different temperatures. Note also that one of the experiments only contains a reverse field sweep."
   ]
  },
  {
   "cell_type": "code",
   "execution_count": 2,
   "metadata": {},
   "outputs": [
    {
     "name": "stdout",
     "output_type": "stream",
     "text": [
      "MvsH at 2 K:\tavailable segments: ['forward', 'reverse']\n",
      "MvsH at 4 K:\tavailable segments: ['forward', 'reverse']\n",
      "MvsH at 6 K:\tavailable segments: ['forward', 'reverse']\n",
      "MvsH at 8 K:\tavailable segments: ['forward', 'reverse']\n",
      "MvsH at 10 K:\tavailable segments: ['forward', 'reverse']\n",
      "MvsH at 12 K:\tavailable segments: ['forward', 'reverse']\n",
      "MvsH at 300 K:\tavailable segments: ['reverse']\n"
     ]
    }
   ],
   "source": [
    "dset1 = mp.Magnetometry(DATA_PATH / \"dataset1\")\n",
    "for mvsh in dset1.mvsh:\n",
    "    segments = []\n",
    "    for segment in [\"forward\", \"reverse\"]:\n",
    "        try:\n",
    "            _ = mvsh.select_segment(segment)\n",
    "            segments.append(segment)\n",
    "        except mp.MvsH.SegmentError:\n",
    "            pass\n",
    "    print(f\"{mvsh}:\\tavailable segments: {segments}\")"
   ]
  },
  {
   "cell_type": "markdown",
   "metadata": {},
   "source": [
    "The first step in our analysis will be to select a particular `MvsH` object based on a desired temperature."
   ]
  },
  {
   "cell_type": "code",
   "execution_count": 3,
   "metadata": {},
   "outputs": [
    {
     "data": {
      "text/plain": [
       "MvsH at 2 K"
      ]
     },
     "execution_count": 3,
     "metadata": {},
     "output_type": "execute_result"
    }
   ],
   "source": [
    "mvsh = dset1.get_mvsh(2)\n",
    "mvsh"
   ]
  },
  {
   "cell_type": "markdown",
   "metadata": {},
   "source": [
    "To determine saturation magnetization, coercive field, and remnant magnetization, we'll need to inspect individual segments within the hysteresis loop. Better yet, we can average over all available segments to get a more robust estimate of these quantities. First we'll need to make a list of the available segments and the `DataFrame` containing the data for each segment.\n",
    "\n",
    "Note that we'll be analyzing a `DataFrame` from the [`MvsH.simplified_data()`](../../api/mvsh/#magnetopy.experiments.mvsh.MvsH.simplified_data) method. This ensures that no matter what the original data looks like or what scaling was applied, we'll be able to analyze it in a consistent manner."
   ]
  },
  {
   "cell_type": "code",
   "execution_count": 4,
   "metadata": {},
   "outputs": [
    {
     "data": {
      "text/html": [
       "<div>\n",
       "<style scoped>\n",
       "    .dataframe tbody tr th:only-of-type {\n",
       "        vertical-align: middle;\n",
       "    }\n",
       "\n",
       "    .dataframe tbody tr th {\n",
       "        vertical-align: top;\n",
       "    }\n",
       "\n",
       "    .dataframe thead th {\n",
       "        text-align: right;\n",
       "    }\n",
       "</style>\n",
       "<table border=\"1\" class=\"dataframe\">\n",
       "  <thead>\n",
       "    <tr style=\"text-align: right;\">\n",
       "      <th></th>\n",
       "      <th>time</th>\n",
       "      <th>temperature</th>\n",
       "      <th>field</th>\n",
       "      <th>moment</th>\n",
       "      <th>moment_err</th>\n",
       "      <th>chi</th>\n",
       "      <th>chi_err</th>\n",
       "      <th>chi_t</th>\n",
       "      <th>chi_t_err</th>\n",
       "    </tr>\n",
       "  </thead>\n",
       "  <tbody>\n",
       "    <tr>\n",
       "      <th>0</th>\n",
       "      <td>3803630121</td>\n",
       "      <td>1.999938</td>\n",
       "      <td>-70000.35156</td>\n",
       "      <td>-10.448284</td>\n",
       "      <td>0.013823</td>\n",
       "      <td>0.833620</td>\n",
       "      <td>0.001103</td>\n",
       "      <td>1.667187</td>\n",
       "      <td>0.002206</td>\n",
       "    </tr>\n",
       "    <tr>\n",
       "      <th>1</th>\n",
       "      <td>3803630124</td>\n",
       "      <td>2.000082</td>\n",
       "      <td>-69999.64063</td>\n",
       "      <td>-10.464880</td>\n",
       "      <td>0.013818</td>\n",
       "      <td>0.834952</td>\n",
       "      <td>0.001103</td>\n",
       "      <td>1.669973</td>\n",
       "      <td>0.002205</td>\n",
       "    </tr>\n",
       "    <tr>\n",
       "      <th>2</th>\n",
       "      <td>3803630129</td>\n",
       "      <td>1.999687</td>\n",
       "      <td>-69746.61719</td>\n",
       "      <td>-10.460689</td>\n",
       "      <td>0.012272</td>\n",
       "      <td>0.837646</td>\n",
       "      <td>0.000983</td>\n",
       "      <td>1.675029</td>\n",
       "      <td>0.001965</td>\n",
       "    </tr>\n",
       "    <tr>\n",
       "      <th>3</th>\n",
       "      <td>3803630134</td>\n",
       "      <td>2.000118</td>\n",
       "      <td>-69498.96875</td>\n",
       "      <td>-10.465098</td>\n",
       "      <td>0.015537</td>\n",
       "      <td>0.840985</td>\n",
       "      <td>0.001249</td>\n",
       "      <td>1.682069</td>\n",
       "      <td>0.002497</td>\n",
       "    </tr>\n",
       "    <tr>\n",
       "      <th>4</th>\n",
       "      <td>3803630139</td>\n",
       "      <td>2.000298</td>\n",
       "      <td>-69246.27344</td>\n",
       "      <td>-10.456070</td>\n",
       "      <td>0.014218</td>\n",
       "      <td>0.843326</td>\n",
       "      <td>0.001147</td>\n",
       "      <td>1.686902</td>\n",
       "      <td>0.002294</td>\n",
       "    </tr>\n",
       "    <tr>\n",
       "      <th>...</th>\n",
       "      <td>...</td>\n",
       "      <td>...</td>\n",
       "      <td>...</td>\n",
       "      <td>...</td>\n",
       "      <td>...</td>\n",
       "      <td>...</td>\n",
       "      <td>...</td>\n",
       "      <td>...</td>\n",
       "      <td>...</td>\n",
       "    </tr>\n",
       "    <tr>\n",
       "      <th>558</th>\n",
       "      <td>3803632902</td>\n",
       "      <td>1.999771</td>\n",
       "      <td>69002.42969</td>\n",
       "      <td>10.453863</td>\n",
       "      <td>0.040218</td>\n",
       "      <td>0.846127</td>\n",
       "      <td>0.003255</td>\n",
       "      <td>1.692060</td>\n",
       "      <td>0.006510</td>\n",
       "    </tr>\n",
       "    <tr>\n",
       "      <th>559</th>\n",
       "      <td>3803632907</td>\n",
       "      <td>2.000226</td>\n",
       "      <td>69253.85156</td>\n",
       "      <td>10.457121</td>\n",
       "      <td>0.040109</td>\n",
       "      <td>0.843318</td>\n",
       "      <td>0.003235</td>\n",
       "      <td>1.686827</td>\n",
       "      <td>0.006470</td>\n",
       "    </tr>\n",
       "    <tr>\n",
       "      <th>560</th>\n",
       "      <td>3803632912</td>\n",
       "      <td>1.999959</td>\n",
       "      <td>69500.30469</td>\n",
       "      <td>10.456319</td>\n",
       "      <td>0.041108</td>\n",
       "      <td>0.840263</td>\n",
       "      <td>0.003303</td>\n",
       "      <td>1.680491</td>\n",
       "      <td>0.006607</td>\n",
       "    </tr>\n",
       "    <tr>\n",
       "      <th>561</th>\n",
       "      <td>3803632917</td>\n",
       "      <td>1.999737</td>\n",
       "      <td>69751.79688</td>\n",
       "      <td>10.448923</td>\n",
       "      <td>0.043926</td>\n",
       "      <td>0.836641</td>\n",
       "      <td>0.003517</td>\n",
       "      <td>1.673063</td>\n",
       "      <td>0.007033</td>\n",
       "    </tr>\n",
       "    <tr>\n",
       "      <th>562</th>\n",
       "      <td>3803632925</td>\n",
       "      <td>2.000152</td>\n",
       "      <td>70000.31250</td>\n",
       "      <td>10.448547</td>\n",
       "      <td>0.043354</td>\n",
       "      <td>0.833641</td>\n",
       "      <td>0.003459</td>\n",
       "      <td>1.667409</td>\n",
       "      <td>0.006919</td>\n",
       "    </tr>\n",
       "  </tbody>\n",
       "</table>\n",
       "<p>563 rows × 9 columns</p>\n",
       "</div>"
      ],
      "text/plain": [
       "           time  temperature        field     moment  moment_err       chi  \\\n",
       "0    3803630121     1.999938 -70000.35156 -10.448284    0.013823  0.833620   \n",
       "1    3803630124     2.000082 -69999.64063 -10.464880    0.013818  0.834952   \n",
       "2    3803630129     1.999687 -69746.61719 -10.460689    0.012272  0.837646   \n",
       "3    3803630134     2.000118 -69498.96875 -10.465098    0.015537  0.840985   \n",
       "4    3803630139     2.000298 -69246.27344 -10.456070    0.014218  0.843326   \n",
       "..          ...          ...          ...        ...         ...       ...   \n",
       "558  3803632902     1.999771  69002.42969  10.453863    0.040218  0.846127   \n",
       "559  3803632907     2.000226  69253.85156  10.457121    0.040109  0.843318   \n",
       "560  3803632912     1.999959  69500.30469  10.456319    0.041108  0.840263   \n",
       "561  3803632917     1.999737  69751.79688  10.448923    0.043926  0.836641   \n",
       "562  3803632925     2.000152  70000.31250  10.448547    0.043354  0.833641   \n",
       "\n",
       "      chi_err     chi_t  chi_t_err  \n",
       "0    0.001103  1.667187   0.002206  \n",
       "1    0.001103  1.669973   0.002205  \n",
       "2    0.000983  1.675029   0.001965  \n",
       "3    0.001249  1.682069   0.002497  \n",
       "4    0.001147  1.686902   0.002294  \n",
       "..        ...       ...        ...  \n",
       "558  0.003255  1.692060   0.006510  \n",
       "559  0.003235  1.686827   0.006470  \n",
       "560  0.003303  1.680491   0.006607  \n",
       "561  0.003517  1.673063   0.007033  \n",
       "562  0.003459  1.667409   0.006919  \n",
       "\n",
       "[563 rows x 9 columns]"
      ]
     },
     "execution_count": 4,
     "metadata": {},
     "output_type": "execute_result"
    }
   ],
   "source": [
    "segments: dict[str, pd.DataFrame] = {}\n",
    "for segment in [\"forward\", \"reverse\"]:\n",
    "    try:\n",
    "        data = mvsh.simplified_data(segment)\n",
    "        segments[segment] = data\n",
    "    except mp.MvsH.SegmentError:\n",
    "        pass\n",
    "segments[\"forward\"]"
   ]
  },
  {
   "cell_type": "markdown",
   "metadata": {},
   "source": [
    "The saturation magnetization for a given segment can be determined by averaging the maximum moment at positive fields and the absolute value of the minimum moment at negative fields. We can then average over all available segments."
   ]
  },
  {
   "cell_type": "code",
   "execution_count": 5,
   "metadata": {},
   "outputs": [
    {
     "data": {
      "text/plain": [
       "10.467101768993821"
      ]
     },
     "execution_count": 5,
     "metadata": {},
     "output_type": "execute_result"
    }
   ],
   "source": [
    "m_s = 0\n",
    "for segment in segments.values():\n",
    "    m_s += (segment[\"moment\"].max() + abs(segment[\"moment\"].min())) / 2\n",
    "m_s /= len(segments)\n",
    "m_s"
   ]
  },
  {
   "cell_type": "markdown",
   "metadata": {},
   "source": [
    "The coercive field can be determined by finding the field at which the moment is zero. We can then average over all available segments."
   ]
  },
  {
   "cell_type": "code",
   "execution_count": 6,
   "metadata": {},
   "outputs": [
    {
     "data": {
      "text/plain": [
       "4501.3806155"
      ]
     },
     "execution_count": 6,
     "metadata": {},
     "output_type": "execute_result"
    }
   ],
   "source": [
    "h_c = 0\n",
    "for segment in segments.values():\n",
    "    h_c += abs(segment[\"field\"].iloc[segment[\"moment\"].abs().idxmin()])\n",
    "h_c /= len(segments)\n",
    "h_c"
   ]
  },
  {
   "cell_type": "markdown",
   "metadata": {},
   "source": [
    "Finally, we can calculate the remnant magnetization by finding the moment at zero field. Again, we can average over all available segments."
   ]
  },
  {
   "cell_type": "code",
   "execution_count": 7,
   "metadata": {},
   "outputs": [
    {
     "data": {
      "text/plain": [
       "17.147614337928776"
      ]
     },
     "execution_count": 7,
     "metadata": {},
     "output_type": "execute_result"
    }
   ],
   "source": [
    "m_r = 0\n",
    "for segment in segments.values():\n",
    "    m_r += abs(segment[\"moment\"].iloc[segment[\"field\"].abs().idxmin()])\n",
    "m_r / len(segments)\n",
    "m_r"
   ]
  },
  {
   "cell_type": "markdown",
   "metadata": {},
   "source": [
    "As described in the [`MvsH.simplified_data()`](api/mvsh/#magnetopy.experiments.mvsh.MvsH.simplified_data) documentation, the unit of the field data is Oe. The unit of magnetic moment is dependent on what scaling was applied to the data. So our last step will be to check the original `MvsH` object to see what scaling was applied to it."
   ]
  },
  {
   "cell_type": "code",
   "execution_count": 8,
   "metadata": {},
   "outputs": [
    {
     "data": {
      "text/plain": [
       "'bohr magnetons/mol'"
      ]
     },
     "execution_count": 8,
     "metadata": {},
     "output_type": "execute_result"
    }
   ],
   "source": [
    "if not mvsh.scaling:\n",
    "    scaling = \"emu\"\n",
    "elif \"mass\" in mvsh.scaling:\n",
    "    scaling = \"emu/g\"\n",
    "elif \"molar\" in mvsh.scaling:\n",
    "    scaling = \"bohr magnetons/mol\"\n",
    "\n",
    "scaling    "
   ]
  },
  {
   "cell_type": "markdown",
   "metadata": {},
   "source": [
    "That's it. Here's the summary of the analysis:"
   ]
  },
  {
   "cell_type": "code",
   "execution_count": 9,
   "metadata": {},
   "outputs": [
    {
     "name": "stdout",
     "output_type": "stream",
     "text": [
      "MvsH at 2 K in dataset1 has:\n",
      "\tMs = 10.47 bohr magnetons/mol\n",
      "\tHc = 4501.38 Oe\n",
      "\tMr = 17.15 bohr magnetons/mol\n"
     ]
    }
   ],
   "source": [
    "print(f\"{mvsh} in {dset1.sample_id} has:\")\n",
    "print(f\"\\tMs = {m_s:.2f} {scaling}\")\n",
    "print(f\"\\tHc = {h_c:.2f} Oe\")\n",
    "print(f\"\\tMr = {m_r:.2f} {scaling}\")"
   ]
  },
  {
   "cell_type": "markdown",
   "metadata": {},
   "source": [
    "## Creating the `SimpleMvsHAnalysis` Class\n",
    "\n",
    "Having explored the data interactively, we can now create a class to perform the analysis. Using a class that implments MagnetoPy's `Analysis` protocol makes it easy to integrate the analysis into MagnetoPy and take advantage of its features, notably the serialization of datasets and analyses.\n",
    "\n",
    "The [Notes section in the `Analysis` protocol documentation](../../api/analysis/) provides an outline of how a class implementing the `Analysis` protocol should be initialized. In summary, the `__init__` method should have the following arguments:\n",
    "\n",
    "- `dataset`: a `Magnetometry` object. Passing the entire `Magnetometry` object gives us access to all of the component experiments and sample information, as well as the methods used to process and access the data.\n",
    "- `parsing_args`: if we want to perform an analysis on, for example, a single `MvsH` experiment object within a dataset containing multiple `MvsH` objects, we'll need to pass some information in the `parsing_args` argument to tell the analysis class which experiment to use. In general, the values in the `parsing_args` argument should be used to work with the various methods within the `Magnetometry` and experiment classes. It is strongly recommended to use a `dataclass` to store the `parsing_args` values.\n",
    "- `fitting_args`: we may also need to pass some values to the analysis class specific to the model we are implementing. These will likely be starting values or limits for the fitting parameters. As with the `parsing_args` argument, it is strongly recommended to use a `dataclass` to store the `fitting_args` values.\n",
    "\n",
    "The only required attribute of the `Analysis` protocol is the `results` attribute, which should be a `dataclass` containing the results of the analysis. The `__init__` method should perform the analysis and store the results in `results`.\n",
    "\n",
    "We don't need any `fitting_args` for this analysis, so we'll just need to create some classes for `parsing_args` and `results`."
   ]
  },
  {
   "cell_type": "code",
   "execution_count": 10,
   "metadata": {},
   "outputs": [],
   "source": [
    "@dataclass\n",
    "class SimpleMvsHAnalysisParsingArgs:\n",
    "    \"\"\"Arguments needed to parse a `Magnetometry` object during the course of an\n",
    "    analysis performed by `SimpleMvsHAnalysis`.\n",
    "\n",
    "    Attributes\n",
    "    ----------\n",
    "    temperature : float\n",
    "        The temperature in Kelvin of the measurement to be analyzed.\n",
    "    segments : Literal[\"auto\", \"loop\", \"forward\", \"reverse\"], optional\n",
    "        The segments of the measurement to be analyzed. If `\"auto\"`, the forward and\n",
    "        reverse segments will be analyzed if they exist and will be ignored if they\n",
    "        don't. If `\"loop\"`, the forward and reverse segments will be analyzed if they\n",
    "        exist and an error will be raised if they don't. If `\"forward\"` or `\"reverse\"`,\n",
    "        only the forward or reverse segment will be analyzed, respectively.\n",
    "    \"\"\"\n",
    "\n",
    "    temperature: float\n",
    "    segments: Literal[\"auto\", \"loop\", \"forward\", \"reverse\"] = \"auto\"\n",
    "\n",
    "    def as_dict(self) -> dict[str, Any]:\n",
    "        return asdict(self)\n",
    "\n",
    "\n",
    "@dataclass\n",
    "class SimpleMvsHAnalysisResults:\n",
    "    \"\"\"The results of an analysis performed by `SimpleMvsHAnalysis`.\n",
    "\n",
    "    Attributes\n",
    "    ----------\n",
    "    m_s : float\n",
    "        The saturation magnetization of the sample in units of `moment_units`.\n",
    "    h_c : float\n",
    "        The coercive field of the sample in units of `field_units`.\n",
    "    m_r : float\n",
    "        The remanent magnetization of the sample in units of `moment_units`.\n",
    "    moment_units : str\n",
    "        The units of the saturation magnetization and remanent magnetization.\n",
    "    field_units : str\n",
    "        The units of the coercive field.\n",
    "    segments : list[{\"forward\", \"reverse\"}]\n",
    "        The segments of the measurement that were analyzed.\n",
    "    \"\"\"\n",
    "\n",
    "    m_s: float\n",
    "    h_c: float\n",
    "    m_r: float\n",
    "    moment_units: str\n",
    "    field_units: str\n",
    "    segments: Literal[\"forward\", \"reverse\"]\n",
    "\n",
    "    def as_dict(self) -> dict[str, Any]:\n",
    "        return asdict(self)"
   ]
  },
  {
   "cell_type": "markdown",
   "metadata": {},
   "source": [
    "Now we just need to move the analysis code we previously wrote into the `__init__` method and add a few lines to store the results in the `results` attribute. We'll also add some logic for handling requests for specific segments to be analyzed, as well as an `as_dict()` method for serializing the results (this is a required method of the `Analysis` protocol)."
   ]
  },
  {
   "cell_type": "code",
   "execution_count": 11,
   "metadata": {},
   "outputs": [],
   "source": [
    "class SimpleMvsHAnalysis:\n",
    "    \"\"\"An analysis of an M vs. H experiment that determines basic information about the\n",
    "    hysteresis loop (i.e., saturation magnetization, coercive field, remnant field).\n",
    "\n",
    "    Parameters\n",
    "    ----------\n",
    "    dataset : Magnetometry\n",
    "        The `Magnetometry` object which contains the `MvsH` object to be analyzed.\n",
    "    parsing_args : SimpleMvsHAnalysisParsingArgs\n",
    "        Arguments needed to parse the `Magnetometry` object to obtain the `MvsH` object\n",
    "        to be analyzed.\n",
    "\n",
    "    Attributes\n",
    "    ----------\n",
    "    parsing_args : SimpleMvsHAnalysisParsingArgs\n",
    "        Arguments needed to parse the `Magnetometry` object to obtain the `MvsH` object\n",
    "        to be analyzed.\n",
    "    mvsh : MvsH\n",
    "        The analyzed `MvsH` object.\n",
    "    results : SimpleMvsHAnalysisResults\n",
    "        The results of the analysis.\n",
    "    \"\"\"\n",
    "\n",
    "    def __init__(\n",
    "        self,\n",
    "        dataset: mp.Magnetometry,\n",
    "        parsing_args: SimpleMvsHAnalysisParsingArgs,\n",
    "    ) -> None:\n",
    "        self.parsing_args = parsing_args\n",
    "        self.mvsh = dataset.get_mvsh(self.parsing_args.temperature)\n",
    "        segments = self._get_segments()\n",
    "        m_s = self._determine_m_s(segments)\n",
    "        h_c = self._determine_h_c(segments)\n",
    "        m_r = self._determine_m_r(segments)\n",
    "        moment_units = self._determine_moment_units()\n",
    "        field_units = \"Oe\"\n",
    "        self.results = SimpleMvsHAnalysisResults(\n",
    "            m_s, h_c, m_r, moment_units, field_units, list(segments.keys())\n",
    "        )\n",
    "\n",
    "    def _get_segments(self) -> dict[str, pd.DataFrame]:\n",
    "        segments: dict[str : pd.DataFrame] = {}\n",
    "        if self.parsing_args.segments == \"auto\":\n",
    "            try:\n",
    "                segments[\"forward\"] = self.mvsh.simplified_data(\"forward\")\n",
    "            except mp.MvsH.SegmentError:\n",
    "                pass\n",
    "            try:\n",
    "                segments[\"reverse\"] = self.mvsh.simplified_data(\"reverse\")\n",
    "            except mp.MvsH.SegmentError:\n",
    "                pass\n",
    "        else:\n",
    "            if self.parsing_args.segments in [\"loop\", \"forward\"]:\n",
    "                segments[\"forward\"] = self.mvsh.simplified_data(\"forward\")\n",
    "            if self.parsing_args.segments in [\"loop\", \"reverse\"]:\n",
    "                segments[\"reverse\"] = self.mvsh.simplified_data(\"reverse\")\n",
    "        return segments\n",
    "\n",
    "    def _determine_m_s(self, segments: dict[str, pd.DataFrame]) -> float:\n",
    "        m_s = 0\n",
    "        for segment in segments.values():\n",
    "            m_s += (segment[\"moment\"].max() + abs(segment[\"moment\"].min())) / 2\n",
    "        return m_s / len(segments)\n",
    "\n",
    "    def _determine_h_c(self, segments: dict[str, pd.DataFrame]) -> float:\n",
    "        h_c = 0\n",
    "        for segment in segments.values():\n",
    "            h_c += abs(segment[\"field\"].iloc[segment[\"moment\"].abs().idxmin()])\n",
    "        return h_c / len(segments)\n",
    "\n",
    "    def _determine_m_r(self, segments: dict[str, pd.DataFrame]) -> float:\n",
    "        m_r = 0\n",
    "        for segment in segments.values():\n",
    "            m_r += abs(segment[\"moment\"].iloc[segment[\"field\"].abs().idxmin()])\n",
    "        return m_r / len(segments)\n",
    "\n",
    "    def _determine_moment_units(self) -> str:\n",
    "        scaling = self.mvsh.scaling\n",
    "        if not scaling:\n",
    "            return \"emu\"\n",
    "        elif \"mass\" in scaling:\n",
    "            return \"emu/g\"\n",
    "        elif \"molar\" in scaling:\n",
    "            return \"bohr magnetons/mol\"\n",
    "\n",
    "    def as_dict(self) -> dict[str, Any]:\n",
    "        \"\"\"Return a dictionary representation of the analysis.\n",
    "\n",
    "        Returns\n",
    "        -------\n",
    "        dict[str, Any]\n",
    "            Keys are `\"mvsh\"`, `\"parsing_args\"`, and `\"results\"`.\n",
    "        \"\"\"\n",
    "        return {\n",
    "            \"mvsh\": self.mvsh,\n",
    "            \"parsing_args\": self.parsing_args,\n",
    "            \"results\": self.results,\n",
    "        }"
   ]
  },
  {
   "cell_type": "markdown",
   "metadata": {},
   "source": [
    "## The Purpose of MagnetoPy\n",
    "\n",
    "Now we can easily analyze M vs. H experiments in any dataset. **Note that the processing done for each dataset is different -- these differences include: VSM vs DC measurements, settling vs scanning magnetic field, different scaling based on sample information, one dataset applies a field correction, etc. Despite all of these differences, MagnetoPy makes it easy to perform the same analysis on all of the datasets.**"
   ]
  },
  {
   "cell_type": "code",
   "execution_count": 12,
   "metadata": {},
   "outputs": [],
   "source": [
    "dset1 = mp.Magnetometry(DATA_PATH / \"dataset1\")\n",
    "dset2 = mp.Magnetometry(DATA_PATH / \"dataset2\")\n",
    "dset3 = mp.Magnetometry(\n",
    "    DATA_PATH / \"dataset3\",\n",
    "    true_field_correction=\"sequence_1\"\n",
    ")\n",
    "dset4 = mp.Magnetometry(DATA_PATH / \"dataset4\")\n",
    "for dset in [dset1, dset2, dset3, dset4]:\n",
    "    analyses = []\n",
    "    for mvsh in dset.mvsh:\n",
    "        analysis = SimpleMvsHAnalysis(\n",
    "            dset, SimpleMvsHAnalysisParsingArgs(mvsh.temperature)\n",
    "        )\n",
    "        analyses.append(analysis)\n",
    "    dset.add_analysis(analyses)\n"
   ]
  },
  {
   "cell_type": "markdown",
   "metadata": {},
   "source": [
    "If we were publishing this work we would likely take advantage of the [`MvsH.create_report()`](../../api/magnetometry/#magnetopy.magnetometry.Magnetometry.create_report) method. For now, we'll just print the results."
   ]
  },
  {
   "cell_type": "code",
   "execution_count": 13,
   "metadata": {},
   "outputs": [
    {
     "name": "stdout",
     "output_type": "stream",
     "text": [
      "| Dataset | Temperature (K) | H_c (Oe) | M_s | M_r | M units |\n",
      "| ------- | --------------- | -------- | --- | --- | ------- |\n",
      "| dataset1 | 2 | 4501.38 | 10.47 | 8.57 | bohr magnetons/mol |\n",
      "| dataset1 | 4 | 3502.37 | 9.45 | 4.49 | bohr magnetons/mol |\n",
      "| dataset1 | 6 | 1502.06 | 9.32 | 1.24 | bohr magnetons/mol |\n",
      "| dataset1 | 8 | 355.58 | 9.23 | 0.16 | bohr magnetons/mol |\n",
      "| dataset1 | 10 | 1.34 | 9.01 | 0.02 | bohr magnetons/mol |\n",
      "| dataset1 | 12 | 7.78 | 8.87 | 0.00 | bohr magnetons/mol |\n",
      "| dataset1 | 300 | 4.78 | 0.99 | 0.00 | bohr magnetons/mol |\n",
      "| dataset2 | 293.0 | 0.11 | 0.77 | 0.05 | emu/g |\n",
      "| dataset3 | 300 | 4.92 | 51.64 | 0.49 | emu/g |\n",
      "| dataset4 | 2 | 0.12 | 8.50 | 0.06 | bohr magnetons/mol |\n"
     ]
    }
   ],
   "source": [
    "print(\"| Dataset | Temperature (K) | H_c (Oe) | M_s | M_r | M units |\")\n",
    "print(\"| ------- | --------------- | -------- | --- | --- | ------- |\")\n",
    "for dset in [dset1, dset2, dset3, dset4]:\n",
    "    for analysis in dset.analyses:\n",
    "        print(\n",
    "            f\"| {dset.sample_id} | {analysis.parsing_args.temperature} | \"\n",
    "            f\"{analysis.results.h_c:.2f} | {analysis.results.m_s:.2f} | \"\n",
    "            f\"{analysis.results.m_r:.2f} | {analysis.results.moment_units} |\")"
   ]
  },
  {
   "cell_type": "markdown",
   "metadata": {},
   "source": [
    "Here is the same data formatted in markdown:\n",
    "\n",
    "| Dataset | Temperature (K) | H_c (Oe) | M_s | M_r | M units |\n",
    "| ------- | --------------- | -------- | --- | --- | ------- |\n",
    "| dataset1 | 2 | 4501.38 | 10.47 | 8.57 | bohr magnetons/mol |\n",
    "| dataset1 | 4 | 3502.37 | 9.45 | 4.49 | bohr magnetons/mol |\n",
    "| dataset1 | 6 | 1502.06 | 9.32 | 1.24 | bohr magnetons/mol |\n",
    "| dataset1 | 8 | 355.58 | 9.23 | 0.16 | bohr magnetons/mol |\n",
    "| dataset1 | 10 | 1.34 | 9.01 | 0.02 | bohr magnetons/mol |\n",
    "| dataset1 | 12 | 7.78 | 8.87 | 0.00 | bohr magnetons/mol |\n",
    "| dataset1 | 300 | 4.78 | 0.99 | 0.00 | bohr magnetons/mol |\n",
    "| dataset2 | 293.0 | 0.11 | 0.77 | 0.05 | emu/g |\n",
    "| dataset3 | 300 | 4.92 | 51.64 | 0.49 | emu/g |\n",
    "| dataset4 | 2 | 0.12 | 8.50 | 0.06 | bohr magnetons/mol |\n",
    "\n",
    "\n",
    "\n",
    "## Other Elements in Analyses\n",
    "\n",
    "The `Analysis` protocol class just defines minimum requirements, and additional functionality may be desired in an analysis class. For example, for analyses which benefit from some sort of visualization, it may be useful to implement a `plot()` method. This could exist in the class itself or as a standalone method within the analysis module."
   ]
  },
  {
   "cell_type": "markdown",
   "metadata": {},
   "source": []
  }
 ],
 "metadata": {
  "kernelspec": {
   "display_name": "magnetopy-3.10.12",
   "language": "python",
   "name": "python3"
  },
  "language_info": {
   "codemirror_mode": {
    "name": "ipython",
    "version": 3
   },
   "file_extension": ".py",
   "mimetype": "text/x-python",
   "name": "python",
   "nbconvert_exporter": "python",
   "pygments_lexer": "ipython3",
   "version": "3.10.12"
  },
  "orig_nbformat": 4
 },
 "nbformat": 4,
 "nbformat_minor": 2
}

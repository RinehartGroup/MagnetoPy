{
 "cells": [
  {
   "cell_type": "markdown",
   "metadata": {},
   "source": [
    "# Reading a .dat File\n",
    "\n",
    "The `DatFile` class reads and stores data from a .dat file from a Quantum Design MPMPS magnetometer. Create the `DatFile` object by passing the path to the .dat file to the constructor."
   ]
  },
  {
   "cell_type": "code",
   "execution_count": 1,
   "metadata": {},
   "outputs": [],
   "source": [
    "from pathlib import Path\n",
    "\n",
    "import magnetopy as mp"
   ]
  },
  {
   "cell_type": "code",
   "execution_count": 2,
   "metadata": {},
   "outputs": [],
   "source": [
    "DATA_PATH = Path(\"../../tests/data\")\n",
    "\n",
    "mvsh1 = mp.DatFile(DATA_PATH / \"mvsh1.dat\")"
   ]
  },
  {
   "cell_type": "markdown",
   "metadata": {},
   "source": [
    "## The `data`\n",
    "\n",
    "`DatFile` creation executes some low-level parsing of the .dat file. For example, the file header and data sections are separated into `header` and `data` attributes. The `data` attribute is a Pandas `DataFrame` and gives access to the original data in a convenient form."
   ]
  },
  {
   "cell_type": "code",
   "execution_count": 3,
   "metadata": {},
   "outputs": [
    {
     "data": {
      "text/html": [
       "<div>\n",
       "<style scoped>\n",
       "    .dataframe tbody tr th:only-of-type {\n",
       "        vertical-align: middle;\n",
       "    }\n",
       "\n",
       "    .dataframe tbody tr th {\n",
       "        vertical-align: top;\n",
       "    }\n",
       "\n",
       "    .dataframe thead th {\n",
       "        text-align: right;\n",
       "    }\n",
       "</style>\n",
       "<table border=\"1\" class=\"dataframe\">\n",
       "  <thead>\n",
       "    <tr style=\"text-align: right;\">\n",
       "      <th></th>\n",
       "      <th>Comment</th>\n",
       "      <th>Time Stamp (sec)</th>\n",
       "      <th>Temperature (K)</th>\n",
       "      <th>Magnetic Field (Oe)</th>\n",
       "      <th>Moment (emu)</th>\n",
       "      <th>M. Std. Err. (emu)</th>\n",
       "      <th>Transport Action</th>\n",
       "      <th>Averaging Time (sec)</th>\n",
       "      <th>Frequency (Hz)</th>\n",
       "      <th>Peak Amplitude (mm)</th>\n",
       "      <th>...</th>\n",
       "      <th>Map 07</th>\n",
       "      <th>Map 08</th>\n",
       "      <th>Map 09</th>\n",
       "      <th>Map 10</th>\n",
       "      <th>Map 11</th>\n",
       "      <th>Map 12</th>\n",
       "      <th>Map 13</th>\n",
       "      <th>Map 14</th>\n",
       "      <th>Map 15</th>\n",
       "      <th>Map 16</th>\n",
       "    </tr>\n",
       "  </thead>\n",
       "  <tbody>\n",
       "    <tr>\n",
       "      <th>0</th>\n",
       "      <td>NaN</td>\n",
       "      <td>3803627317</td>\n",
       "      <td>2.000165</td>\n",
       "      <td>70000.37500</td>\n",
       "      <td>0.736924</td>\n",
       "      <td>0.000996</td>\n",
       "      <td>1</td>\n",
       "      <td>1</td>\n",
       "      <td>13.006381</td>\n",
       "      <td>0.999015</td>\n",
       "      <td>...</td>\n",
       "      <td>NaN</td>\n",
       "      <td>NaN</td>\n",
       "      <td>NaN</td>\n",
       "      <td>NaN</td>\n",
       "      <td>NaN</td>\n",
       "      <td>NaN</td>\n",
       "      <td>NaN</td>\n",
       "      <td>NaN</td>\n",
       "      <td>NaN</td>\n",
       "      <td>NaN</td>\n",
       "    </tr>\n",
       "    <tr>\n",
       "      <th>1</th>\n",
       "      <td>NaN</td>\n",
       "      <td>3803627320</td>\n",
       "      <td>2.000241</td>\n",
       "      <td>69995.39844</td>\n",
       "      <td>0.736522</td>\n",
       "      <td>0.001055</td>\n",
       "      <td>1</td>\n",
       "      <td>1</td>\n",
       "      <td>13.006381</td>\n",
       "      <td>0.999028</td>\n",
       "      <td>...</td>\n",
       "      <td>NaN</td>\n",
       "      <td>NaN</td>\n",
       "      <td>NaN</td>\n",
       "      <td>NaN</td>\n",
       "      <td>NaN</td>\n",
       "      <td>NaN</td>\n",
       "      <td>NaN</td>\n",
       "      <td>NaN</td>\n",
       "      <td>NaN</td>\n",
       "      <td>NaN</td>\n",
       "    </tr>\n",
       "    <tr>\n",
       "      <th>2</th>\n",
       "      <td>NaN</td>\n",
       "      <td>3803627325</td>\n",
       "      <td>1.999892</td>\n",
       "      <td>69746.85938</td>\n",
       "      <td>0.737400</td>\n",
       "      <td>0.001470</td>\n",
       "      <td>1</td>\n",
       "      <td>1</td>\n",
       "      <td>13.006381</td>\n",
       "      <td>0.999024</td>\n",
       "      <td>...</td>\n",
       "      <td>NaN</td>\n",
       "      <td>NaN</td>\n",
       "      <td>NaN</td>\n",
       "      <td>NaN</td>\n",
       "      <td>NaN</td>\n",
       "      <td>NaN</td>\n",
       "      <td>NaN</td>\n",
       "      <td>NaN</td>\n",
       "      <td>NaN</td>\n",
       "      <td>NaN</td>\n",
       "    </tr>\n",
       "    <tr>\n",
       "      <th>3</th>\n",
       "      <td>NaN</td>\n",
       "      <td>3803627334</td>\n",
       "      <td>2.000141</td>\n",
       "      <td>69286.15625</td>\n",
       "      <td>0.736039</td>\n",
       "      <td>0.000992</td>\n",
       "      <td>1</td>\n",
       "      <td>1</td>\n",
       "      <td>13.006381</td>\n",
       "      <td>0.999066</td>\n",
       "      <td>...</td>\n",
       "      <td>NaN</td>\n",
       "      <td>NaN</td>\n",
       "      <td>NaN</td>\n",
       "      <td>NaN</td>\n",
       "      <td>NaN</td>\n",
       "      <td>NaN</td>\n",
       "      <td>NaN</td>\n",
       "      <td>NaN</td>\n",
       "      <td>NaN</td>\n",
       "      <td>NaN</td>\n",
       "    </tr>\n",
       "    <tr>\n",
       "      <th>4</th>\n",
       "      <td>NaN</td>\n",
       "      <td>3803627335</td>\n",
       "      <td>1.999827</td>\n",
       "      <td>69246.48438</td>\n",
       "      <td>0.737444</td>\n",
       "      <td>0.001020</td>\n",
       "      <td>1</td>\n",
       "      <td>1</td>\n",
       "      <td>13.006381</td>\n",
       "      <td>0.999066</td>\n",
       "      <td>...</td>\n",
       "      <td>NaN</td>\n",
       "      <td>NaN</td>\n",
       "      <td>NaN</td>\n",
       "      <td>NaN</td>\n",
       "      <td>NaN</td>\n",
       "      <td>NaN</td>\n",
       "      <td>NaN</td>\n",
       "      <td>NaN</td>\n",
       "      <td>NaN</td>\n",
       "      <td>NaN</td>\n",
       "    </tr>\n",
       "    <tr>\n",
       "      <th>...</th>\n",
       "      <td>...</td>\n",
       "      <td>...</td>\n",
       "      <td>...</td>\n",
       "      <td>...</td>\n",
       "      <td>...</td>\n",
       "      <td>...</td>\n",
       "      <td>...</td>\n",
       "      <td>...</td>\n",
       "      <td>...</td>\n",
       "      <td>...</td>\n",
       "      <td>...</td>\n",
       "      <td>...</td>\n",
       "      <td>...</td>\n",
       "      <td>...</td>\n",
       "      <td>...</td>\n",
       "      <td>...</td>\n",
       "      <td>...</td>\n",
       "      <td>...</td>\n",
       "      <td>...</td>\n",
       "      <td>...</td>\n",
       "      <td>...</td>\n",
       "    </tr>\n",
       "    <tr>\n",
       "      <th>7300</th>\n",
       "      <td>NaN</td>\n",
       "      <td>3814233888</td>\n",
       "      <td>300.000000</td>\n",
       "      <td>-69003.28906</td>\n",
       "      <td>-0.067261</td>\n",
       "      <td>0.000070</td>\n",
       "      <td>1</td>\n",
       "      <td>1</td>\n",
       "      <td>13.006381</td>\n",
       "      <td>0.999186</td>\n",
       "      <td>...</td>\n",
       "      <td>NaN</td>\n",
       "      <td>NaN</td>\n",
       "      <td>NaN</td>\n",
       "      <td>NaN</td>\n",
       "      <td>NaN</td>\n",
       "      <td>NaN</td>\n",
       "      <td>NaN</td>\n",
       "      <td>NaN</td>\n",
       "      <td>NaN</td>\n",
       "      <td>NaN</td>\n",
       "    </tr>\n",
       "    <tr>\n",
       "      <th>7301</th>\n",
       "      <td>NaN</td>\n",
       "      <td>3814233893</td>\n",
       "      <td>299.999634</td>\n",
       "      <td>-69254.71094</td>\n",
       "      <td>-0.067489</td>\n",
       "      <td>0.000071</td>\n",
       "      <td>1</td>\n",
       "      <td>1</td>\n",
       "      <td>13.006381</td>\n",
       "      <td>0.999208</td>\n",
       "      <td>...</td>\n",
       "      <td>NaN</td>\n",
       "      <td>NaN</td>\n",
       "      <td>NaN</td>\n",
       "      <td>NaN</td>\n",
       "      <td>NaN</td>\n",
       "      <td>NaN</td>\n",
       "      <td>NaN</td>\n",
       "      <td>NaN</td>\n",
       "      <td>NaN</td>\n",
       "      <td>NaN</td>\n",
       "    </tr>\n",
       "    <tr>\n",
       "      <th>7302</th>\n",
       "      <td>NaN</td>\n",
       "      <td>3814233898</td>\n",
       "      <td>300.000000</td>\n",
       "      <td>-69508.75000</td>\n",
       "      <td>-0.067781</td>\n",
       "      <td>0.000076</td>\n",
       "      <td>1</td>\n",
       "      <td>1</td>\n",
       "      <td>13.006381</td>\n",
       "      <td>0.999197</td>\n",
       "      <td>...</td>\n",
       "      <td>NaN</td>\n",
       "      <td>NaN</td>\n",
       "      <td>NaN</td>\n",
       "      <td>NaN</td>\n",
       "      <td>NaN</td>\n",
       "      <td>NaN</td>\n",
       "      <td>NaN</td>\n",
       "      <td>NaN</td>\n",
       "      <td>NaN</td>\n",
       "      <td>NaN</td>\n",
       "    </tr>\n",
       "    <tr>\n",
       "      <th>7303</th>\n",
       "      <td>NaN</td>\n",
       "      <td>3814233902</td>\n",
       "      <td>299.999451</td>\n",
       "      <td>-69750.06250</td>\n",
       "      <td>-0.067944</td>\n",
       "      <td>0.000072</td>\n",
       "      <td>1</td>\n",
       "      <td>1</td>\n",
       "      <td>13.006381</td>\n",
       "      <td>0.999192</td>\n",
       "      <td>...</td>\n",
       "      <td>NaN</td>\n",
       "      <td>NaN</td>\n",
       "      <td>NaN</td>\n",
       "      <td>NaN</td>\n",
       "      <td>NaN</td>\n",
       "      <td>NaN</td>\n",
       "      <td>NaN</td>\n",
       "      <td>NaN</td>\n",
       "      <td>NaN</td>\n",
       "      <td>NaN</td>\n",
       "    </tr>\n",
       "    <tr>\n",
       "      <th>7304</th>\n",
       "      <td>NaN</td>\n",
       "      <td>3814233911</td>\n",
       "      <td>300.000183</td>\n",
       "      <td>-70000.16406</td>\n",
       "      <td>-0.068273</td>\n",
       "      <td>0.000078</td>\n",
       "      <td>1</td>\n",
       "      <td>1</td>\n",
       "      <td>13.006381</td>\n",
       "      <td>0.999175</td>\n",
       "      <td>...</td>\n",
       "      <td>NaN</td>\n",
       "      <td>NaN</td>\n",
       "      <td>NaN</td>\n",
       "      <td>NaN</td>\n",
       "      <td>NaN</td>\n",
       "      <td>NaN</td>\n",
       "      <td>NaN</td>\n",
       "      <td>NaN</td>\n",
       "      <td>NaN</td>\n",
       "      <td>NaN</td>\n",
       "    </tr>\n",
       "  </tbody>\n",
       "</table>\n",
       "<p>7305 rows × 89 columns</p>\n",
       "</div>"
      ],
      "text/plain": [
       "      Comment  Time Stamp (sec)  Temperature (K)  Magnetic Field (Oe)  \\\n",
       "0         NaN        3803627317         2.000165          70000.37500   \n",
       "1         NaN        3803627320         2.000241          69995.39844   \n",
       "2         NaN        3803627325         1.999892          69746.85938   \n",
       "3         NaN        3803627334         2.000141          69286.15625   \n",
       "4         NaN        3803627335         1.999827          69246.48438   \n",
       "...       ...               ...              ...                  ...   \n",
       "7300      NaN        3814233888       300.000000         -69003.28906   \n",
       "7301      NaN        3814233893       299.999634         -69254.71094   \n",
       "7302      NaN        3814233898       300.000000         -69508.75000   \n",
       "7303      NaN        3814233902       299.999451         -69750.06250   \n",
       "7304      NaN        3814233911       300.000183         -70000.16406   \n",
       "\n",
       "      Moment (emu)  M. Std. Err. (emu)  Transport Action  \\\n",
       "0         0.736924            0.000996                 1   \n",
       "1         0.736522            0.001055                 1   \n",
       "2         0.737400            0.001470                 1   \n",
       "3         0.736039            0.000992                 1   \n",
       "4         0.737444            0.001020                 1   \n",
       "...            ...                 ...               ...   \n",
       "7300     -0.067261            0.000070                 1   \n",
       "7301     -0.067489            0.000071                 1   \n",
       "7302     -0.067781            0.000076                 1   \n",
       "7303     -0.067944            0.000072                 1   \n",
       "7304     -0.068273            0.000078                 1   \n",
       "\n",
       "      Averaging Time (sec)  Frequency (Hz)  Peak Amplitude (mm)  ...  Map 07  \\\n",
       "0                        1       13.006381             0.999015  ...     NaN   \n",
       "1                        1       13.006381             0.999028  ...     NaN   \n",
       "2                        1       13.006381             0.999024  ...     NaN   \n",
       "3                        1       13.006381             0.999066  ...     NaN   \n",
       "4                        1       13.006381             0.999066  ...     NaN   \n",
       "...                    ...             ...                  ...  ...     ...   \n",
       "7300                     1       13.006381             0.999186  ...     NaN   \n",
       "7301                     1       13.006381             0.999208  ...     NaN   \n",
       "7302                     1       13.006381             0.999197  ...     NaN   \n",
       "7303                     1       13.006381             0.999192  ...     NaN   \n",
       "7304                     1       13.006381             0.999175  ...     NaN   \n",
       "\n",
       "      Map 08  Map 09  Map 10  Map 11  Map 12  Map 13  Map 14  Map 15  Map 16  \n",
       "0        NaN     NaN     NaN     NaN     NaN     NaN     NaN     NaN     NaN  \n",
       "1        NaN     NaN     NaN     NaN     NaN     NaN     NaN     NaN     NaN  \n",
       "2        NaN     NaN     NaN     NaN     NaN     NaN     NaN     NaN     NaN  \n",
       "3        NaN     NaN     NaN     NaN     NaN     NaN     NaN     NaN     NaN  \n",
       "4        NaN     NaN     NaN     NaN     NaN     NaN     NaN     NaN     NaN  \n",
       "...      ...     ...     ...     ...     ...     ...     ...     ...     ...  \n",
       "7300     NaN     NaN     NaN     NaN     NaN     NaN     NaN     NaN     NaN  \n",
       "7301     NaN     NaN     NaN     NaN     NaN     NaN     NaN     NaN     NaN  \n",
       "7302     NaN     NaN     NaN     NaN     NaN     NaN     NaN     NaN     NaN  \n",
       "7303     NaN     NaN     NaN     NaN     NaN     NaN     NaN     NaN     NaN  \n",
       "7304     NaN     NaN     NaN     NaN     NaN     NaN     NaN     NaN     NaN  \n",
       "\n",
       "[7305 rows x 89 columns]"
      ]
     },
     "execution_count": 3,
     "metadata": {},
     "output_type": "execute_result"
    }
   ],
   "source": [
    "mvsh1.data"
   ]
  },
  {
   "cell_type": "markdown",
   "metadata": {},
   "source": [
    "## Serialization\n",
    "\n",
    "Serializing the `DatFile` object via the `as_dict()` method shows some of the other class attributes. Most of them are important solely for record keeping."
   ]
  },
  {
   "cell_type": "code",
   "execution_count": 4,
   "metadata": {},
   "outputs": [
    {
     "data": {
      "text/plain": [
       "{'experiment_type': 'magnetometry',\n",
       " 'local_path': '../../tests/data/mvsh1.dat',\n",
       " 'length': 2604806,\n",
       " 'date_created': '2020-07-11T11:07:00',\n",
       " 'sha512': 'f9f8ac5d5b84cc00a57073d330c0f8b005e90201eadc588649388a35666f427bdc6beaa9c8ef5d58e70099a54ced7d9006f9800b8014639e790a2f0423acd6a5',\n",
       " 'experiments_in_file': ['mvsh']}"
      ]
     },
     "execution_count": 4,
     "metadata": {},
     "output_type": "execute_result"
    }
   ],
   "source": [
    "mvsh1.as_dict()"
   ]
  },
  {
   "cell_type": "markdown",
   "metadata": {},
   "source": [
    "## Determining the Types of Experiments in the File\n",
    "\n",
    "The `experiments_in_file` attribute is useful for higher level classes (particularly the `Dataset` class) to determine how to further handle `DatFile` objects. In this case, `mvsh1.dat` contains the `mvsh` (aka M vs. H, variable field magnetization, or hysteresis) experiment. Actually it contains several `mvsh` experiments at different temperatures, but the separation of that data is dealt with by the `MvsH` class. For now it's just helpful to have a list of the types of experiments in the file."
   ]
  },
  {
   "cell_type": "code",
   "execution_count": 5,
   "metadata": {},
   "outputs": [
    {
     "data": {
      "text/plain": [
       "['mvsh']"
      ]
     },
     "execution_count": 5,
     "metadata": {},
     "output_type": "execute_result"
    }
   ],
   "source": [
    "mvsh1.experiments_in_file"
   ]
  },
  {
   "cell_type": "markdown",
   "metadata": {},
   "source": [
    "Let's look at some other files and see what's inside of them."
   ]
  },
  {
   "cell_type": "code",
   "execution_count": 6,
   "metadata": {},
   "outputs": [
    {
     "data": {
      "text/plain": [
       "['zfcfc']"
      ]
     },
     "execution_count": 6,
     "metadata": {},
     "output_type": "execute_result"
    }
   ],
   "source": [
    "zfcfc1 = mp.DatFile(DATA_PATH / \"zfcfc1.dat\")\n",
    "zfcfc1.experiments_in_file"
   ]
  },
  {
   "cell_type": "code",
   "execution_count": 7,
   "metadata": {},
   "outputs": [
    {
     "data": {
      "text/plain": [
       "['zfc']"
      ]
     },
     "execution_count": 7,
     "metadata": {},
     "output_type": "execute_result"
    }
   ],
   "source": [
    "zfc4 = mp.DatFile(DATA_PATH / 'zfc4a.dat')\n",
    "zfc4.experiments_in_file"
   ]
  },
  {
   "cell_type": "code",
   "execution_count": 8,
   "metadata": {},
   "outputs": [
    {
     "data": {
      "text/plain": [
       "['fc']"
      ]
     },
     "execution_count": 8,
     "metadata": {},
     "output_type": "execute_result"
    }
   ],
   "source": [
    "fc4 = mp.DatFile(DATA_PATH / \"fc4a.dat\")\n",
    "fc4.experiments_in_file"
   ]
  },
  {
   "cell_type": "markdown",
   "metadata": {},
   "source": [
    "In these cases MagnetoPy is getting information from the file names, but it can also determine the experiments from the file content. The following cell creates a copy of \"zfcfc1.dat\" named \"unlabeled_file.dat\" and determines the experiments from the actual data."
   ]
  },
  {
   "cell_type": "code",
   "execution_count": 9,
   "metadata": {},
   "outputs": [
    {
     "data": {
      "text/plain": [
       "['zfcfc']"
      ]
     },
     "execution_count": 9,
     "metadata": {},
     "output_type": "execute_result"
    }
   ],
   "source": [
    "import shutil\n",
    "import os\n",
    "\n",
    "shutil.copy(DATA_PATH / \"zfcfc1.dat\", DATA_PATH / \"unlabeled_file.dat\")\n",
    "\n",
    "unlabeled = mp.DatFile(DATA_PATH / \"unlabeled_file.dat\")\n",
    "os.remove(DATA_PATH / \"unlabeled_file.dat\")\n",
    "\n",
    "unlabeled.experiments_in_file"
   ]
  },
  {
   "cell_type": "markdown",
   "metadata": {},
   "source": [
    "Here's a file with several experiments inside"
   ]
  },
  {
   "cell_type": "code",
   "execution_count": 10,
   "metadata": {},
   "outputs": [
    {
     "data": {
      "text/plain": [
       "['zfc', 'fc', 'zfc', 'fc', 'mvsh']"
      ]
     },
     "execution_count": 10,
     "metadata": {},
     "output_type": "execute_result"
    }
   ],
   "source": [
    "dataset4 = mp.DatFile(DATA_PATH / \"dataset4.dat\")\n",
    "dataset4.experiments_in_file"
   ]
  },
  {
   "cell_type": "markdown",
   "metadata": {},
   "source": [
    "## Experiment Determination Method\n",
    "\n",
    "The experiment determination is done by a class method `_get_experiments_in_file` shown here:\n",
    "\n",
    "```python\n",
    "def _get_experiments_in_file(self) -> list[str]:\n",
    "    experiments = []\n",
    "    if self.comments:\n",
    "        for comments in self.comments.values():\n",
    "            for comment in comments:\n",
    "                if comment.lower() in [\"mvsh\", \"zfc\", \"fc\", \"zfcfc\"]:\n",
    "                    experiments.append(comment.lower())\n",
    "    elif (filename := filename_label(self.local_path.name, \"\", True)) != \"unknown\":\n",
    "        experiments.append(filename)\n",
    "    else:\n",
    "        if len(self.data[\"Magnetic Field (Oe)\"].unique()) == 1:\n",
    "            experiments.append(\"zfcfc\")\n",
    "        else:\n",
    "            experiments.append(\"mvsh\")\n",
    "    return experiments\n",
    "```\n",
    "\n",
    "So the order of precedence is:\n",
    "\n",
    "1. **Comments in the file**. Note that these are comments in the \"[DATA]\" section of the file, which are inserted using the \"Add comment\" option in MultiVu used when creating the sequence. This allows for multiple experiments to be easily read from a single file, as was done in \"dataset4.dat\" in the example above.\n",
    "2. **Filename**. This is particularly useful for `\"fc\"` and `\"zfc\"` experiments in files without comments, as the method used in #3 below will not be able to distinguish between the two.\n",
    "3. **Reading the data**. With knowledge of what typical experiments and files look like, we can make some assumptions about the data. For example, distinguishing between a \"zfcfc\" file and an \"mvsh\" file relies on the fact that typically files containing \"zfcfc\" experiments will only have one unique magnetic field value.\n",
    "\n",
    "As is discussed in [the File Formatting page](../../file_formatting), commented files are strongly encouraged, as it removes any ambiguity in the experiment determination."
   ]
  },
  {
   "cell_type": "markdown",
   "metadata": {},
   "source": []
  }
 ],
 "metadata": {
  "kernelspec": {
   "display_name": "magnetopy-3.10.12",
   "language": "python",
   "name": "python3"
  },
  "language_info": {
   "codemirror_mode": {
    "name": "ipython",
    "version": 3
   },
   "file_extension": ".py",
   "mimetype": "text/x-python",
   "name": "python",
   "nbconvert_exporter": "python",
   "pygments_lexer": "ipython3",
   "version": "3.10.12"
  },
  "orig_nbformat": 4
 },
 "nbformat": 4,
 "nbformat_minor": 2
}

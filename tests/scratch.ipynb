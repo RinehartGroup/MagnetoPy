{
 "cells": [
  {
   "cell_type": "markdown",
   "metadata": {},
   "source": [
    "# Next steps:\n",
    "\n",
    "- ~~add the .rw.dat parsing to `DatFile` (with `raw` options in higher level classes where appropriate)~~\n",
    "  - https://www.qdusa.com/siteDocs/appNotes/1500-022.pdf\n",
    "- ~~add raw options to `MvsH`, `ZFCFC`, and `Dataset`~~\n",
    "- come up with an `Analysis` prototype/ABC\n",
    "- implement `SimpleMvsHAnalysis` (getting things like `M_s`, `H_c`, `H_r`, etc. with appropriate scaling factors)\n",
    "- implement basic serialization (i.e., `as_dict()` on all classes)\n",
    "- create documentation and GitHub page\n",
    "- add some basic plotting functionality"
   ]
  },
  {
   "cell_type": "code",
   "execution_count": 1,
   "metadata": {},
   "outputs": [],
   "source": [
    "from __future__ import annotations\n",
    "import json\n",
    "from dataclasses import dataclass, InitVar\n",
    "import re\n",
    "from collections import OrderedDict\n",
    "import csv\n",
    "from datetime import datetime\n",
    "import numpy as np\n",
    "import pandas as pd\n",
    "from pathlib import Path\n",
    "import magnetopy as mp\n",
    "from magnetopy import DatFile, GenericFile\n",
    "from magnetopy.data_files import filename_label, DcMeasurement, ScanHeader, RawScan, ProcessedScan\n",
    "from magnetopy.parsing_utils import label_clusters, unique_values, find_outlier_indices, find_temp_turnaround_point, find_sequence_starts\n",
    "from magnetopy import MvsH, ZFCFC, ZFC, FC, SampleInfo, Dataset\n",
    "from magnetopy.experiments import _num_digits_after_decimal, _scale_dc_data, _add_uncorrected_moment_columns\n",
    "\n",
    "import matplotlib.pyplot as plt\n",
    "\n",
    "from pydantic import BaseModel"
   ]
  },
  {
   "cell_type": "code",
   "execution_count": 2,
   "metadata": {},
   "outputs": [],
   "source": [
    "DATA_PATH = Path(\"data\")\n",
    "\n",
    "mvsh1_dat = DatFile(DATA_PATH / \"mvsh1.dat\")\n",
    "mvsh2_dat = DatFile(DATA_PATH / \"mvsh2.dat\")\n",
    "mvsh2a_dat = DatFile(DATA_PATH / \"mvsh2a.dat\")\n",
    "mvsh2b_dat = DatFile(DATA_PATH / \"mvsh2b.dat\")\n",
    "mvsh2c_dat = DatFile(DATA_PATH / \"mvsh2c.dat\")\n",
    "mvsh3_dat = DatFile(DATA_PATH / \"mvsh3.dat\")\n",
    "mvsh4_dat = DatFile(DATA_PATH / \"mvsh4.dat\")\n",
    "mvsh5_dat = DatFile(DATA_PATH / \"mvsh5.dat\")\n",
    "mvsh5rw_dat = DatFile(DATA_PATH / \"mvsh5.rw.dat\")\n",
    "mvsh6_dat = DatFile(DATA_PATH / \"mvsh6.dat\")\n",
    "mvsh7_dat = DatFile(DATA_PATH / \"mvsh7.dat\")\n",
    "mvsh8_dat = DatFile(DATA_PATH / \"mvsh8.dat\")\n",
    "mvsh9_dat = DatFile(DATA_PATH / \"mvsh9.dat\")\n",
    "mvsh10_dat = DatFile(DATA_PATH / \"mvsh10.dat\")\n",
    "mvsh11_dat = DatFile(DATA_PATH / \"mvsh11.dat\")\n",
    "zfcfc1_dat = DatFile(DATA_PATH / \"zfcfc1.dat\")\n",
    "zfcfc2_dat = DatFile(DATA_PATH / \"zfcfc2.dat\")\n",
    "zfcfc3_dat = DatFile(DATA_PATH / \"zfcfc3.dat\")\n",
    "zfcfc4_dat = DatFile(DATA_PATH / \"zfcfc4.dat\")\n",
    "fc4a_dat = DatFile(DATA_PATH / \"fc4a.dat\")\n",
    "fc4b_dat = DatFile(DATA_PATH / \"fc4b.dat\")\n",
    "zfc4a_dat = DatFile(DATA_PATH / \"zfc4a.dat\")\n",
    "zfc4b_dat = DatFile(DATA_PATH / \"zfc4b.dat\")\n",
    "fc5_dat = DatFile(DATA_PATH / \"fc5.dat\")\n",
    "fc5rw_dat = DatFile(DATA_PATH / \"fc5.rw.dat\")\n",
    "zfc5_dat = DatFile(DATA_PATH / \"zfc5.dat\")\n",
    "zfc5rw_dat = DatFile(DATA_PATH / \"zfc5.rw.dat\")\n",
    "dataset4_dat = DatFile(DATA_PATH / \"dataset4.dat\")\n",
    "pd_std1_dat = DatFile(DATA_PATH / \"Pd_std1.dat\")\n"
   ]
  },
  {
   "cell_type": "code",
   "execution_count": 3,
   "metadata": {},
   "outputs": [],
   "source": [
    "commented_mvsh_dat = [mvsh4_dat, mvsh5_dat]\n",
    "commented_mvsh_dat_w_dset = [mvsh4_dat, mvsh5_dat, dataset4_dat]\n",
    "uncommented_mvsh_dat = [mvsh1_dat, mvsh2_dat, mvsh2a_dat, mvsh2b_dat, mvsh3_dat, mvsh6_dat, mvsh7_dat, mvsh8_dat, mvsh9_dat, mvsh10_dat, mvsh11_dat, pd_std1_dat]"
   ]
  },
  {
   "cell_type": "code",
   "execution_count": 4,
   "metadata": {},
   "outputs": [],
   "source": [
    "mvsh1_2 = MvsH(mvsh1_dat, 2)\n",
    "mvsh1_4 = MvsH(mvsh1_dat, 4)\n",
    "mvsh1_6 = MvsH(mvsh1_dat, 6)\n",
    "mvsh1_8 = MvsH(mvsh1_dat, 8)\n",
    "mvsh1_10 = MvsH(mvsh1_dat, 10)\n",
    "mvsh1_12 = MvsH(mvsh1_dat, 12)\n",
    "mvsh1_300 = MvsH(mvsh1_dat, 300)\n",
    "\n",
    "mvsh2_5 = MvsH(mvsh2_dat, 5)\n",
    "mvsh2_300 = MvsH(mvsh2_dat, 300)\n",
    "mvsh2a_5 = MvsH(mvsh2a_dat, 5)\n",
    "mvsh2b_300 = MvsH(mvsh2b_dat, 300)\n",
    "mvsh2c_5 = MvsH(mvsh2c_dat, 5)\n",
    "mvsh2c_300 = MvsH(mvsh2c_dat, 300)\n",
    "\n",
    "mvsh3_5 = MvsH(mvsh3_dat, 5)\n",
    "\n",
    "mvsh4_293 = MvsH(mvsh4_dat, 293)\n",
    "\n",
    "mvsh4ds_293 = MvsH(dataset4_dat, 293)\n",
    "\n",
    "mvsh5_293 = MvsH(mvsh5_dat, 293)\n",
    "\n",
    "mvsh6_300 = MvsH(mvsh6_dat, 300)\n",
    "\n",
    "mvsh7_300 = MvsH(mvsh7_dat, 300)\n",
    "\n",
    "mvsh8_2 = MvsH(mvsh8_dat, 2)\n",
    "\n",
    "mvsh9_2 = MvsH(mvsh9_dat, 2)\n",
    "\n",
    "mvsh10_5 = MvsH(mvsh10_dat, 5)\n",
    "\n",
    "mvsh11_5 = MvsH(mvsh11_dat, 5)\n",
    "\n",
    "pd_std1_300 = MvsH(pd_std1_dat, 300)\n",
    "\n",
    "mvsh1 = [mvsh1_2, mvsh1_4, mvsh1_6, mvsh1_8, mvsh1_10, mvsh1_12, mvsh1_300]\n",
    "mvsh2 = [mvsh2_5, mvsh2_300, mvsh2a_5, mvsh2b_300]\n",
    "mvsh_commented = [mvsh4_293, mvsh4ds_293, mvsh5_293]\n",
    "mvsh_rest = [mvsh3_5, mvsh6_300, mvsh7_300, mvsh8_2, mvsh9_2, pd_std1_300]\n",
    "\n",
    "mvsh_uncommented = mvsh1 + mvsh2 + mvsh_rest\n",
    "\n",
    "mvsh_all = mvsh1 + mvsh2 + mvsh_commented + mvsh_rest"
   ]
  },
  {
   "cell_type": "code",
   "execution_count": 5,
   "metadata": {},
   "outputs": [],
   "source": [
    "uncommented_zfcfc_dat = [zfcfc1_dat, zfcfc2_dat, zfcfc3_dat]\n",
    "uncommented_zfc_dat = [zfc5_dat]\n",
    "uncommented_fc_dat = [fc5_dat]\n",
    "commented_zfcfc_dat = [zfcfc4_dat]\n",
    "commented_zfc_dat = [zfc4a_dat, zfc4b_dat]\n",
    "commented_fc_dat = [fc4a_dat, fc4b_dat]\n"
   ]
  },
  {
   "cell_type": "code",
   "execution_count": 6,
   "metadata": {},
   "outputs": [],
   "source": [
    "name = \"zfc5\"\n",
    "file = DATA_PATH / f\"{name}.dat\"\n",
    "file_raw = DATA_PATH / f\"{name}.rw.dat\"\n",
    "zfc = ZFC(file, parse_raw=True)"
   ]
  },
  {
   "cell_type": "code",
   "execution_count": 7,
   "metadata": {},
   "outputs": [],
   "source": [
    "dset = Dataset(DATA_PATH / \"dataset1\")"
   ]
  },
  {
   "cell_type": "code",
   "execution_count": 8,
   "metadata": {},
   "outputs": [
    {
     "data": {
      "text/plain": [
       "(19.8, 1566.22, 32.4)"
      ]
     },
     "execution_count": 8,
     "metadata": {},
     "output_type": "execute_result"
    }
   ],
   "source": [
    "dset.sample_info.mass, dset.sample_info.molecular_weight, dset.sample_info.eicosane_mass"
   ]
  },
  {
   "cell_type": "code",
   "execution_count": 9,
   "metadata": {},
   "outputs": [
    {
     "data": {
      "text/plain": [
       "[MvsH at 2 K,\n",
       " MvsH at 4 K,\n",
       " MvsH at 6 K,\n",
       " MvsH at 8 K,\n",
       " MvsH at 10 K,\n",
       " MvsH at 12 K,\n",
       " MvsH at 300 K]"
      ]
     },
     "execution_count": 9,
     "metadata": {},
     "output_type": "execute_result"
    }
   ],
   "source": [
    "dset.mvsh"
   ]
  },
  {
   "cell_type": "code",
   "execution_count": 10,
   "metadata": {},
   "outputs": [],
   "source": [
    "mvsh = dset.get_mvsh(2)"
   ]
  },
  {
   "cell_type": "code",
   "execution_count": 11,
   "metadata": {},
   "outputs": [
    {
     "data": {
      "text/plain": [
       "['molar', 'eicosane']"
      ]
     },
     "execution_count": 11,
     "metadata": {},
     "output_type": "execute_result"
    }
   ],
   "source": [
    "mvsh.scaling"
   ]
  },
  {
   "cell_type": "code",
   "execution_count": 12,
   "metadata": {},
   "outputs": [],
   "source": [
    "forward = mvsh.simplified_data(\"forward\")\n",
    "reverse = mvsh.simplified_data(\"reverse\")"
   ]
  },
  {
   "cell_type": "code",
   "execution_count": 13,
   "metadata": {},
   "outputs": [
    {
     "data": {
      "text/plain": [
       "[<matplotlib.lines.Line2D at 0x7fa534c7c5b0>]"
      ]
     },
     "execution_count": 13,
     "metadata": {},
     "output_type": "execute_result"
    },
    {
     "data": {
      "image/png": "[encoded data removed]",
      "text/plain": [
       "<Figure size 640x480 with 1 Axes>"
      ]
     },
     "metadata": {},
     "output_type": "display_data"
    }
   ],
   "source": [
    "fig, ax = plt.subplots()\n",
    "ax.plot(reverse['field'], reverse['moment'], c='b')\n",
    "ax.plot(-reverse['field'], -reverse['moment'], c='b')\n",
    "ax.plot(forward['field'], forward['moment'], c='r', ls='--')"
   ]
  },
  {
   "cell_type": "code",
   "execution_count": 14,
   "metadata": {},
   "outputs": [
    {
     "data": {
      "image/png": "[encoded data removed]",
      "text/plain": [
       "<Figure size 640x480 with 1 Axes>"
      ]
     },
     "execution_count": 14,
     "metadata": {},
     "output_type": "execute_result"
    }
   ],
   "source": [
    "ax.set_xlim(-10000, 10000)\n",
    "fig"
   ]
  },
  {
   "cell_type": "code",
   "execution_count": 15,
   "metadata": {},
   "outputs": [
    {
     "data": {
      "text/plain": [
       "-8.573830159070367"
      ]
     },
     "execution_count": 15,
     "metadata": {},
     "output_type": "execute_result"
    }
   ],
   "source": [
    "m_r = forward['moment'].iloc[forward['field'].abs().idxmin()]\n",
    "m_r"
   ]
  },
  {
   "cell_type": "code",
   "execution_count": 16,
   "metadata": {},
   "outputs": [
    {
     "data": {
      "text/plain": [
       "-4501.643555"
      ]
     },
     "execution_count": 16,
     "metadata": {},
     "output_type": "execute_result"
    }
   ],
   "source": [
    "h_c = reverse['field'].iloc[reverse['moment'].abs().idxmin()]\n",
    "h_c"
   ]
  },
  {
   "cell_type": "code",
   "execution_count": 17,
   "metadata": {},
   "outputs": [
    {
     "data": {
      "text/plain": [
       "10.466703114161271"
      ]
     },
     "execution_count": 17,
     "metadata": {},
     "output_type": "execute_result"
    }
   ],
   "source": [
    "m_s = (forward['moment'].max() + abs(forward['moment'].min())) / 2\n",
    "m_s"
   ]
  },
  {
   "cell_type": "code",
   "execution_count": 18,
   "metadata": {},
   "outputs": [
    {
     "name": "stdout",
     "output_type": "stream",
     "text": [
      "SimpleMvsHAnalysisResults(m_s=10.467101768993821, h_c=4501.3806155, m_r=8.573807168964388, moment_units='bohr magnetons/mol', field_units='Oe', segments=['forward', 'reverse'])\n"
     ]
    }
   ],
   "source": [
    "analysis = mp.SimpleMvsHAnalysis(\n",
    "    dset,\n",
    "    mp.SimpleMvsHAnalysisParsingArgs(\n",
    "        temperature=2\n",
    "    ),\n",
    ")\n",
    "print(analysis.results)"
   ]
  },
  {
   "cell_type": "code",
   "execution_count": 19,
   "metadata": {},
   "outputs": [
    {
     "data": {
      "text/plain": [
       "'mvsh1.dat'"
      ]
     },
     "execution_count": 19,
     "metadata": {},
     "output_type": "execute_result"
    }
   ],
   "source": [
    "analysis.mvsh.origin_file"
   ]
  },
  {
   "cell_type": "code",
   "execution_count": 20,
   "metadata": {},
   "outputs": [],
   "source": [
    "dset.add_analysis(analysis)"
   ]
  },
  {
   "cell_type": "code",
   "execution_count": 21,
   "metadata": {},
   "outputs": [
    {
     "name": "stdout",
     "output_type": "stream",
     "text": [
      "{\n",
      "    \"sample_id\": \"dataset1\",\n",
      "    \"sample_info\": {\n",
      "        \"material\": \"[Er(TiPS2COT)I(THF)]2\",\n",
      "        \"comment\": \"salmon powder in eicosane\",\n",
      "        \"mass\": 19.8,\n",
      "        \"volume\": null,\n",
      "        \"molecular_weight\": 1566.22,\n",
      "        \"size\": null,\n",
      "        \"shape\": null,\n",
      "        \"holder\": \"Straw\",\n",
      "        \"holder_detail\": \"Standard\",\n",
      "        \"offset\": 66.27,\n",
      "        \"eicosane_mass\": 32.4,\n",
      "        \"diamagnetic_correction\": 0.0\n",
      "    },\n",
      "    \"mvsh\": [\n",
      "        {\n",
      "            \"origin_file\": \"mvsh1.dat\",\n",
      "            \"temperature\": 2,\n",
      "            \"field_range\": [\n",
      "                -70000.35156,\n",
      "                70000.375\n",
      "            ],\n",
      "            \"field_correction_file\": \"\",\n",
      "            \"scaling\": [\n",
      "                \"molar\",\n",
      "                \"eicosane\"\n",
      "            ]\n",
      "        },\n",
      "        {\n",
      "            \"origin_file\": \"mvsh1.dat\",\n",
      "            \"temperature\": 4,\n",
      "            \"field_range\": [\n",
      "                -70000.28125,\n",
      "                70000.28906\n",
      "            ],\n",
      "            \"field_correction_file\": \"\",\n",
      "            \"scaling\": [\n",
      "                \"molar\",\n",
      "                \"eicosane\"\n",
      "            ]\n",
      "        },\n",
      "        {\n",
      "            \"origin_file\": \"mvsh1.dat\",\n",
      "            \"temperature\": 6,\n",
      "            \"field_range\": [\n",
      "                -70000.26563,\n",
      "                70000.41406\n",
      "            ],\n",
      "            \"field_correction_file\": \"\",\n",
      "            \"scaling\": [\n",
      "                \"molar\",\n",
      "                \"eicosane\"\n",
      "            ]\n",
      "        },\n",
      "        {\n",
      "            \"origin_file\": \"mvsh1.dat\",\n",
      "            \"temperature\": 8,\n",
      "            \"field_range\": [\n",
      "                -70000.27344,\n",
      "                70000.375\n",
      "            ],\n",
      "            \"field_correction_file\": \"\",\n",
      "            \"scaling\": [\n",
      "                \"molar\",\n",
      "                \"eicosane\"\n",
      "            ]\n",
      "        },\n",
      "        {\n",
      "            \"origin_file\": \"mvsh1.dat\",\n",
      "            \"temperature\": 10,\n",
      "            \"field_range\": [\n",
      "                -70000.3125,\n",
      "                70000.46094\n",
      "            ],\n",
      "            \"field_correction_file\": \"\",\n",
      "            \"scaling\": [\n",
      "                \"molar\",\n",
      "                \"eicosane\"\n",
      "            ]\n",
      "        },\n",
      "        {\n",
      "            \"origin_file\": \"mvsh1.dat\",\n",
      "            \"temperature\": 12,\n",
      "            \"field_range\": [\n",
      "                -70000.38672,\n",
      "                70000.35156\n",
      "            ],\n",
      "            \"field_correction_file\": \"\",\n",
      "            \"scaling\": [\n",
      "                \"molar\",\n",
      "                \"eicosane\"\n",
      "            ]\n",
      "        },\n",
      "        {\n",
      "            \"origin_file\": \"mvsh1.dat\",\n",
      "            \"temperature\": 300,\n",
      "            \"field_range\": [\n",
      "                -70000.16406,\n",
      "                69999.8125\n",
      "            ],\n",
      "            \"field_correction_file\": \"\",\n",
      "            \"scaling\": [\n",
      "                \"molar\",\n",
      "                \"eicosane\"\n",
      "            ]\n",
      "        }\n",
      "    ],\n",
      "    \"zfc\": [\n",
      "        {\n",
      "            \"origin_file\": \"zfcfc1.dat\",\n",
      "            \"field\": 100,\n",
      "            \"temperature_range\": [\n",
      "                5.00255632400513,\n",
      "                299.939453125\n",
      "            ],\n",
      "            \"scaling\": [\n",
      "                \"molar\",\n",
      "                \"eicosane\"\n",
      "            ]\n",
      "        }\n",
      "    ],\n",
      "    \"fc\": [\n",
      "        {\n",
      "            \"origin_file\": \"zfcfc1.dat\",\n",
      "            \"field\": 100,\n",
      "            \"temperature_range\": [\n",
      "                5.00277781486511,\n",
      "                299.924865722656\n",
      "            ],\n",
      "            \"scaling\": [\n",
      "                \"molar\",\n",
      "                \"eicosane\"\n",
      "            ]\n",
      "        }\n",
      "    ],\n",
      "    \"analyses\": [\n",
      "        {\n",
      "            \"mvsh\": {\n",
      "                \"origin_file\": \"mvsh1.dat\",\n",
      "                \"temperature\": 2,\n",
      "                \"field_range\": [\n",
      "                    -70000.35156,\n",
      "                    70000.375\n",
      "                ],\n",
      "                \"field_correction_file\": \"\",\n",
      "                \"scaling\": [\n",
      "                    \"molar\",\n",
      "                    \"eicosane\"\n",
      "                ]\n",
      "            },\n",
      "            \"parsing_args\": {\n",
      "                \"temperature\": 2,\n",
      "                \"segments\": \"auto\"\n",
      "            },\n",
      "            \"results\": {\n",
      "                \"m_s\": 10.467101768993821,\n",
      "                \"h_c\": 4501.3806155,\n",
      "                \"m_r\": 8.573807168964388,\n",
      "                \"moment_units\": \"bohr magnetons/mol\",\n",
      "                \"field_units\": \"Oe\",\n",
      "                \"segments\": [\n",
      "                    \"forward\",\n",
      "                    \"reverse\"\n",
      "                ]\n",
      "            }\n",
      "        }\n",
      "    ]\n",
      "}\n"
     ]
    }
   ],
   "source": [
    "serialized = json.dumps(dset, default=lambda x: x.as_dict(), indent=4)\n",
    "print(serialized)"
   ]
  },
  {
   "cell_type": "code",
   "execution_count": 22,
   "metadata": {},
   "outputs": [
    {
     "name": "stdout",
     "output_type": "stream",
     "text": [
      "{\n",
      "    \"sample_id\": \"dataset1\",\n",
      "    \"sample_info\": {\n",
      "        \"material\": \"[Er(TiPS2COT)I(THF)]2\",\n",
      "        \"comment\": \"salmon powder in eicosane\",\n",
      "        \"mass\": 19.8,\n",
      "        \"volume\": null,\n",
      "        \"molecular_weight\": 1566.22,\n",
      "        \"size\": null,\n",
      "        \"shape\": null,\n",
      "        \"holder\": \"Straw\",\n",
      "        \"holder_detail\": \"Standard\",\n",
      "        \"offset\": 66.27,\n",
      "        \"eicosane_mass\": 32.4,\n",
      "        \"diamagnetic_correction\": 0.0\n",
      "    },\n",
      "    \"mvsh\": [\n",
      "        {\n",
      "            \"origin_file\": \"mvsh1.dat\",\n",
      "            \"temperature\": 2,\n",
      "            \"field_range\": [\n",
      "                -70000.35156,\n",
      "                70000.375\n",
      "            ],\n",
      "            \"field_correction_file\": \"\",\n",
      "            \"scaling\": [\n",
      "                \"molar\",\n",
      "                \"eicosane\"\n",
      "            ]\n",
      "        },\n",
      "        {\n",
      "            \"origin_file\": \"mvsh1.dat\",\n",
      "            \"temperature\": 4,\n",
      "            \"field_range\": [\n",
      "                -70000.28125,\n",
      "                70000.28906\n",
      "            ],\n",
      "            \"field_correction_file\": \"\",\n",
      "            \"scaling\": [\n",
      "                \"molar\",\n",
      "                \"eicosane\"\n",
      "            ]\n",
      "        },\n",
      "        {\n",
      "            \"origin_file\": \"mvsh1.dat\",\n",
      "            \"temperature\": 6,\n",
      "            \"field_range\": [\n",
      "                -70000.26563,\n",
      "                70000.41406\n",
      "            ],\n",
      "            \"field_correction_file\": \"\",\n",
      "            \"scaling\": [\n",
      "                \"molar\",\n",
      "                \"eicosane\"\n",
      "            ]\n",
      "        },\n",
      "        {\n",
      "            \"origin_file\": \"mvsh1.dat\",\n",
      "            \"temperature\": 8,\n",
      "            \"field_range\": [\n",
      "                -70000.27344,\n",
      "                70000.375\n",
      "            ],\n",
      "            \"field_correction_file\": \"\",\n",
      "            \"scaling\": [\n",
      "                \"molar\",\n",
      "                \"eicosane\"\n",
      "            ]\n",
      "        },\n",
      "        {\n",
      "            \"origin_file\": \"mvsh1.dat\",\n",
      "            \"temperature\": 10,\n",
      "            \"field_range\": [\n",
      "                -70000.3125,\n",
      "                70000.46094\n",
      "            ],\n",
      "            \"field_correction_file\": \"\",\n",
      "            \"scaling\": [\n",
      "                \"molar\",\n",
      "                \"eicosane\"\n",
      "            ]\n",
      "        },\n",
      "        {\n",
      "            \"origin_file\": \"mvsh1.dat\",\n",
      "            \"temperature\": 12,\n",
      "            \"field_range\": [\n",
      "                -70000.38672,\n",
      "                70000.35156\n",
      "            ],\n",
      "            \"field_correction_file\": \"\",\n",
      "            \"scaling\": [\n",
      "                \"molar\",\n",
      "                \"eicosane\"\n",
      "            ]\n",
      "        },\n",
      "        {\n",
      "            \"origin_file\": \"mvsh1.dat\",\n",
      "            \"temperature\": 300,\n",
      "            \"field_range\": [\n",
      "                -70000.16406,\n",
      "                69999.8125\n",
      "            ],\n",
      "            \"field_correction_file\": \"\",\n",
      "            \"scaling\": [\n",
      "                \"molar\",\n",
      "                \"eicosane\"\n",
      "            ]\n",
      "        }\n",
      "    ],\n",
      "    \"zfc\": [\n",
      "        {\n",
      "            \"origin_file\": \"zfcfc1.dat\",\n",
      "            \"field\": 100,\n",
      "            \"temperature_range\": [\n",
      "                5.00255632400513,\n",
      "                299.939453125\n",
      "            ],\n",
      "            \"scaling\": [\n",
      "                \"molar\",\n",
      "                \"eicosane\"\n",
      "            ]\n",
      "        }\n",
      "    ],\n",
      "    \"fc\": [\n",
      "        {\n",
      "            \"origin_file\": \"zfcfc1.dat\",\n",
      "            \"field\": 100,\n",
      "            \"temperature_range\": [\n",
      "                5.00277781486511,\n",
      "                299.924865722656\n",
      "            ],\n",
      "            \"scaling\": [\n",
      "                \"molar\",\n",
      "                \"eicosane\"\n",
      "            ]\n",
      "        }\n",
      "    ],\n",
      "    \"analyses\": [\n",
      "        {\n",
      "            \"mvsh\": {\n",
      "                \"origin_file\": \"mvsh1.dat\",\n",
      "                \"temperature\": 2,\n",
      "                \"field_range\": [\n",
      "                    -70000.35156,\n",
      "                    70000.375\n",
      "                ],\n",
      "                \"field_correction_file\": \"\",\n",
      "                \"scaling\": [\n",
      "                    \"molar\",\n",
      "                    \"eicosane\"\n",
      "                ]\n",
      "            },\n",
      "            \"parsing_args\": {\n",
      "                \"temperature\": 2,\n",
      "                \"segments\": \"auto\"\n",
      "            },\n",
      "            \"results\": {\n",
      "                \"m_s\": 10.467101768993821,\n",
      "                \"h_c\": 4501.3806155,\n",
      "                \"m_r\": 8.573807168964388,\n",
      "                \"moment_units\": \"bohr magnetons/mol\",\n",
      "                \"field_units\": \"Oe\",\n",
      "                \"segments\": [\n",
      "                    \"forward\",\n",
      "                    \"reverse\"\n",
      "                ]\n",
      "            }\n",
      "        }\n",
      "    ]\n",
      "}\n"
     ]
    }
   ],
   "source": [
    "print(dset.as_json(4))"
   ]
  },
  {
   "cell_type": "code",
   "execution_count": 23,
   "metadata": {},
   "outputs": [
    {
     "name": "stdout",
     "output_type": "stream",
     "text": [
      "Report written to data/dataset1/dataset1.json\n"
     ]
    }
   ],
   "source": [
    "dset.create_report()"
   ]
  }
 ],
 "metadata": {
  "kernelspec": {
   "display_name": "magnetopy-3.10.12",
   "language": "python",
   "name": "python3"
  },
  "language_info": {
   "codemirror_mode": {
    "name": "ipython",
    "version": 3
   },
   "file_extension": ".py",
   "mimetype": "text/x-python",
   "name": "python",
   "nbconvert_exporter": "python",
   "pygments_lexer": "ipython3",
   "version": "3.10.12"
  },
  "orig_nbformat": 4
 },
 "nbformat": 4,
 "nbformat_minor": 2
}

{
 "cells": [
  {
   "cell_type": "markdown",
   "metadata": {},
   "source": [
    "# Next steps:\n",
    "\n",
    "- add the .rw.dat parsing to `DatFile` (with `raw` options in higher level classes where appropriate)\n",
    "- come up with an `Analysis` prototype/ABC\n",
    "- implement `SimpleMvsHAnalysis` (getting things like `M_s`, `H_c`, `H_r`, etc. with appropriate scaling factors)\n",
    "- implement basic serialization (i.e., `as_dict()` on all classes)\n",
    "- create documentation and GitHub page\n",
    "- add some basic plotting functionality"
   ]
  },
  {
   "cell_type": "code",
   "execution_count": 1,
   "metadata": {},
   "outputs": [],
   "source": [
    "from __future__ import annotations\n",
    "from dataclasses import dataclass, InitVar\n",
    "import numpy as np\n",
    "import pandas as pd\n",
    "from pathlib import Path\n",
    "import magnetopy as mp\n",
    "from magnetopy import DatFile\n",
    "from magnetopy.parsing_utils import label_clusters, unique_values, find_outlier_indices, find_temp_turnaround_point, find_sequence_starts\n",
    "from magnetopy import MvsH, ZFCFC, ZFC, FC, SampleInfo, Dataset\n",
    "from magnetopy.experiments import _num_digits_after_decimal, _scale_dc_data, _add_uncorrected_moment_columns\n",
    "\n",
    "import matplotlib.pyplot as plt"
   ]
  },
  {
   "cell_type": "code",
   "execution_count": 2,
   "metadata": {},
   "outputs": [],
   "source": [
    "DATA_PATH = Path(\"data\")\n",
    "\n",
    "mvsh1_dat = DatFile(DATA_PATH / \"mvsh1.dat\")\n",
    "mvsh2_dat = DatFile(DATA_PATH / \"mvsh2.dat\")\n",
    "mvsh2a_dat = DatFile(DATA_PATH / \"mvsh2a.dat\")\n",
    "mvsh2b_dat = DatFile(DATA_PATH / \"mvsh2b.dat\")\n",
    "mvsh2c_dat = DatFile(DATA_PATH / \"mvsh2c.dat\")\n",
    "mvsh3_dat = DatFile(DATA_PATH / \"mvsh3.dat\")\n",
    "mvsh4_dat = DatFile(DATA_PATH / \"mvsh4.dat\")\n",
    "mvsh5_dat = DatFile(DATA_PATH / \"mvsh5.dat\")\n",
    "mvsh5rw_dat = DatFile(DATA_PATH / \"mvsh5.rw.dat\")\n",
    "mvsh6_dat = DatFile(DATA_PATH / \"mvsh6.dat\")\n",
    "mvsh7_dat = DatFile(DATA_PATH / \"mvsh7.dat\")\n",
    "mvsh8_dat = DatFile(DATA_PATH / \"mvsh8.dat\")\n",
    "mvsh9_dat = DatFile(DATA_PATH / \"mvsh9.dat\")\n",
    "mvsh10_dat = DatFile(DATA_PATH / \"mvsh10.dat\")\n",
    "mvsh11_dat = DatFile(DATA_PATH / \"mvsh11.dat\")\n",
    "zfcfc1_dat = DatFile(DATA_PATH / \"zfcfc1.dat\")\n",
    "zfcfc2_dat = DatFile(DATA_PATH / \"zfcfc2.dat\")\n",
    "zfcfc3_dat = DatFile(DATA_PATH / \"zfcfc3.dat\")\n",
    "zfcfc4_dat = DatFile(DATA_PATH / \"zfcfc4.dat\")\n",
    "fc4a_dat = DatFile(DATA_PATH / \"fc4a.dat\")\n",
    "fc4b_dat = DatFile(DATA_PATH / \"fc4b.dat\")\n",
    "zfc4a_dat = DatFile(DATA_PATH / \"zfc4a.dat\")\n",
    "zfc4b_dat = DatFile(DATA_PATH / \"zfc4b.dat\")\n",
    "fc5_dat = DatFile(DATA_PATH / \"fc5.dat\")\n",
    "fc5rw_dat = DatFile(DATA_PATH / \"fc5.rw.dat\")\n",
    "zfc5_dat = DatFile(DATA_PATH / \"zfc5.dat\")\n",
    "zfc5rw_dat = DatFile(DATA_PATH / \"zfc5.rw.dat\")\n",
    "dataset4_dat = DatFile(DATA_PATH / \"dataset4.dat\")\n",
    "pd_std1_dat = DatFile(DATA_PATH / \"Pd_std1.dat\")\n"
   ]
  },
  {
   "cell_type": "code",
   "execution_count": 3,
   "metadata": {},
   "outputs": [],
   "source": [
    "commented_mvsh_dat = [mvsh4_dat, mvsh5_dat]\n",
    "commented_mvsh_dat_w_dset = [mvsh4_dat, mvsh5_dat, dataset4_dat]\n",
    "uncommented_mvsh_dat = [mvsh1_dat, mvsh2_dat, mvsh2a_dat, mvsh2b_dat, mvsh3_dat, mvsh6_dat, mvsh7_dat, mvsh8_dat, mvsh9_dat, mvsh10_dat, mvsh11_dat, pd_std1_dat]"
   ]
  },
  {
   "cell_type": "code",
   "execution_count": 4,
   "metadata": {},
   "outputs": [],
   "source": [
    "mvsh1_2 = MvsH(mvsh1_dat, 2)\n",
    "mvsh1_4 = MvsH(mvsh1_dat, 4)\n",
    "mvsh1_6 = MvsH(mvsh1_dat, 6)\n",
    "mvsh1_8 = MvsH(mvsh1_dat, 8)\n",
    "mvsh1_10 = MvsH(mvsh1_dat, 10)\n",
    "mvsh1_12 = MvsH(mvsh1_dat, 12)\n",
    "mvsh1_300 = MvsH(mvsh1_dat, 300)\n",
    "\n",
    "mvsh2_5 = MvsH(mvsh2_dat, 5)\n",
    "mvsh2_300 = MvsH(mvsh2_dat, 300)\n",
    "mvsh2a_5 = MvsH(mvsh2a_dat, 5)\n",
    "mvsh2b_300 = MvsH(mvsh2b_dat, 300)\n",
    "mvsh2c_5 = MvsH(mvsh2c_dat, 5)\n",
    "mvsh2c_300 = MvsH(mvsh2c_dat, 300)\n",
    "\n",
    "mvsh3_5 = MvsH(mvsh3_dat, 5)\n",
    "\n",
    "mvsh4_293 = MvsH(mvsh4_dat, 293)\n",
    "\n",
    "mvsh4ds_293 = MvsH(dataset4_dat, 293)\n",
    "\n",
    "mvsh5_293 = MvsH(mvsh5_dat, 293)\n",
    "\n",
    "mvsh6_300 = MvsH(mvsh6_dat, 300)\n",
    "\n",
    "mvsh7_300 = MvsH(mvsh7_dat, 300)\n",
    "\n",
    "mvsh8_2 = MvsH(mvsh8_dat, 2)\n",
    "\n",
    "mvsh9_2 = MvsH(mvsh9_dat, 2)\n",
    "\n",
    "mvsh10_5 = MvsH(mvsh10_dat, 5)\n",
    "\n",
    "mvsh11_5 = MvsH(mvsh11_dat, 5)\n",
    "\n",
    "pd_std1_300 = MvsH(pd_std1_dat, 300)\n",
    "\n",
    "mvsh1 = [mvsh1_2, mvsh1_4, mvsh1_6, mvsh1_8, mvsh1_10, mvsh1_12, mvsh1_300]\n",
    "mvsh2 = [mvsh2_5, mvsh2_300, mvsh2a_5, mvsh2b_300]\n",
    "mvsh_commented = [mvsh4_293, mvsh4ds_293, mvsh5_293]\n",
    "mvsh_rest = [mvsh3_5, mvsh6_300, mvsh7_300, mvsh8_2, mvsh9_2, pd_std1_300]\n",
    "\n",
    "mvsh_uncommented = mvsh1 + mvsh2 + mvsh_rest\n",
    "\n",
    "mvsh_all = mvsh1 + mvsh2 + mvsh_commented + mvsh_rest"
   ]
  },
  {
   "cell_type": "code",
   "execution_count": 5,
   "metadata": {},
   "outputs": [],
   "source": [
    "uncommented_zfcfc_dat = [zfcfc1_dat, zfcfc2_dat, zfcfc3_dat]\n",
    "uncommented_zfc_dat = [zfc5_dat]\n",
    "uncommented_fc_dat = [fc5_dat]\n",
    "commented_zfcfc_dat = [zfcfc4_dat]\n",
    "commented_zfc_dat = [zfc4a_dat, zfc4b_dat]\n",
    "commented_fc_dat = [fc4a_dat, fc4b_dat]\n"
   ]
  },
  {
   "cell_type": "code",
   "execution_count": 6,
   "metadata": {},
   "outputs": [],
   "source": [
    "file = DATA_PATH / \"zfcfc4.dat\"\n",
    "zfc_objs = ZFC.get_all_in_file(file)"
   ]
  },
  {
   "cell_type": "code",
   "execution_count": 7,
   "metadata": {},
   "outputs": [],
   "source": [
    "dset_names = [\"dataset1\", \"dataset2\", \"dataset3\", \"dataset4\"]\n",
    "dsets = [Dataset(DATA_PATH / dset_name) for dset_name in dset_names]"
   ]
  },
  {
   "cell_type": "code",
   "execution_count": 8,
   "metadata": {},
   "outputs": [
    {
     "name": "stdout",
     "output_type": "stream",
     "text": [
      "['molar', 'eicosane']\n",
      "['mass']\n",
      "['mass']\n",
      "['molar', 'eicosane', 'diamagnetic_correction']\n"
     ]
    }
   ],
   "source": [
    "for dset in dsets:\n",
    "    print(dset.mvsh[0].scaling)"
   ]
  },
  {
   "cell_type": "code",
   "execution_count": 16,
   "metadata": {},
   "outputs": [
    {
     "ename": "ExperimentNotFoundError",
     "evalue": "No ZFC experiment found at field 10000 Oe",
     "output_type": "error",
     "traceback": [
      "\u001b[0;31m---------------------------------------------------------------------------\u001b[0m",
      "\u001b[0;31mExperimentNotFoundError\u001b[0m                   Traceback (most recent call last)",
      "Cell \u001b[0;32mIn[16], line 1\u001b[0m\n\u001b[0;32m----> 1\u001b[0m zfc \u001b[39m=\u001b[39m dsets[\u001b[39m2\u001b[39;49m]\u001b[39m.\u001b[39;49mget_zfc(\u001b[39m10000\u001b[39;49m)\n",
      "File \u001b[0;32m~/rinehart/MagnetoPy/magnetopy/dataset.py:235\u001b[0m, in \u001b[0;36mDataset.get_zfc\u001b[0;34m(self, field)\u001b[0m\n\u001b[1;32m    233\u001b[0m     \u001b[39mif\u001b[39;00m zfc\u001b[39m.\u001b[39mfield \u001b[39m==\u001b[39m field:\n\u001b[1;32m    234\u001b[0m         \u001b[39mreturn\u001b[39;00m zfc\n\u001b[0;32m--> 235\u001b[0m \u001b[39mraise\u001b[39;00m \u001b[39mself\u001b[39m\u001b[39m.\u001b[39mExperimentNotFoundError(\n\u001b[1;32m    236\u001b[0m     \u001b[39mf\u001b[39m\u001b[39m\"\u001b[39m\u001b[39mNo ZFC experiment found at field \u001b[39m\u001b[39m{\u001b[39;00mfield\u001b[39m}\u001b[39;00m\u001b[39m Oe\u001b[39m\u001b[39m\"\u001b[39m\n\u001b[1;32m    237\u001b[0m )\n",
      "\u001b[0;31mExperimentNotFoundError\u001b[0m: No ZFC experiment found at field 10000 Oe"
     ]
    }
   ],
   "source": [
    "zfc = dsets[2].get_zfc(10000)"
   ]
  },
  {
   "cell_type": "code",
   "execution_count": 13,
   "metadata": {},
   "outputs": [
    {
     "data": {
      "text/plain": [
       "True"
      ]
     },
     "execution_count": 13,
     "metadata": {},
     "output_type": "execute_result"
    }
   ],
   "source": [
    "dsets[0].get_mvsh(2).data['uncorrected_moment'].equals(MvsH(mvsh1_dat, 2).data['uncorrected_moment'])"
   ]
  }
 ],
 "metadata": {
  "kernelspec": {
   "display_name": "magnetopy-3.10.12",
   "language": "python",
   "name": "python3"
  },
  "language_info": {
   "codemirror_mode": {
    "name": "ipython",
    "version": 3
   },
   "file_extension": ".py",
   "mimetype": "text/x-python",
   "name": "python",
   "nbconvert_exporter": "python",
   "pygments_lexer": "ipython3",
   "version": "3.10.12"
  },
  "orig_nbformat": 4
 },
 "nbformat": 4,
 "nbformat_minor": 2
}
